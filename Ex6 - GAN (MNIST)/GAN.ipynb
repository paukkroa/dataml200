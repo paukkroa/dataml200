{
 "cells": [
  {
   "cell_type": "markdown",
   "metadata": {
    "deletable": false,
    "editable": false,
    "id": "aQUi5K0WdxeK",
    "nbgrader": {
     "cell_type": "markdown",
     "checksum": "7256cddd9702ccef3d263d2b2d9ea907",
     "grade": false,
     "grade_id": "cell-97417793e2d30ab8",
     "locked": true,
     "schema_version": 3,
     "solution": false,
     "task": false
    }
   },
   "source": [
    "### Exercise 6: Generative Adversarial Network\n",
    "In this exercise, you will train a generative adversarial network (GAN) for **generaring images from random noise**\n",
    "\n",
    "GAN involves two neural network model: **generator** to generate fake images from noisy signal and **discriminator** to discriminate between the real and fake images.\n",
    "\n",
    "The dataset used in this exercise is the [MNIST](https://yann.lecun.com/exdb/mnist/), which contains of 60000 training images of handwritten digits, from 0 to 9 in grey scale color.\n"
   ]
  },
  {
   "cell_type": "code",
   "execution_count": 1,
   "metadata": {
    "id": "yFRBxlkzdxeK"
   },
   "outputs": [],
   "source": [
    "skip_training = False   # You can set it to True if you want to run inference on your trained model.\n",
    "\n",
    "# Set the parameters\n",
    "# Do not change the noise size\n",
    "max_epochs = 20\n",
    "noise_size = 100\n",
    "batch_size = 32"
   ]
  },
  {
   "cell_type": "markdown",
   "metadata": {
    "deletable": false,
    "editable": false,
    "id": "865GtvmmdxeM",
    "nbgrader": {
     "cell_type": "markdown",
     "checksum": "9e2212e2d504b970bd1e78dfa825a582",
     "grade": false,
     "grade_id": "cell-a60636f38def2422",
     "locked": true,
     "schema_version": 3,
     "solution": false,
     "task": false
    }
   },
   "source": [
    "<h3>Import all the necessary libraries </h3>"
   ]
  },
  {
   "cell_type": "code",
   "execution_count": 3,
   "metadata": {
    "deletable": false,
    "editable": false,
    "id": "fDTGTcsydxeM",
    "nbgrader": {
     "cell_type": "code",
     "checksum": "df4b644ac7c36dc72ced981a4e051979",
     "grade": false,
     "grade_id": "cell-2f8294eaa050f849",
     "locked": true,
     "schema_version": 3,
     "solution": false,
     "task": false
    }
   },
   "outputs": [],
   "source": [
    "# import libraries\n",
    "import torch\n",
    "import torch.nn as nn\n",
    "import numpy as np\n",
    "import matplotlib.pyplot as plt\n",
    "\n",
    "from torch.utils.data import random_split, DataLoader\n",
    "import torch.nn.functional as F\n",
    "from torchvision.datasets import MNIST\n",
    "from torchvision import transforms\n"
   ]
  },
  {
   "cell_type": "markdown",
   "metadata": {
    "deletable": false,
    "editable": false,
    "id": "zzl9WhoLdxeN",
    "nbgrader": {
     "cell_type": "markdown",
     "checksum": "3004bb2efe75d68c36ccdfc6d201faf3",
     "grade": false,
     "grade_id": "cell-cc4c633fe5e8a953",
     "locked": true,
     "schema_version": 3,
     "solution": false,
     "task": false
    }
   },
   "source": [
    "<h3> Select the device the run the model.</h3>\n"
   ]
  },
  {
   "cell_type": "code",
   "execution_count": 4,
   "metadata": {
    "colab": {
     "base_uri": "https://localhost:8080/"
    },
    "deletable": false,
    "editable": false,
    "id": "JXSQtCMFdxeN",
    "nbgrader": {
     "cell_type": "code",
     "checksum": "189b1d68b4ff420d0cbc7933f4c608aa",
     "grade": false,
     "grade_id": "cell-bde457a9a8b9968c",
     "locked": true,
     "schema_version": 3,
     "solution": false,
     "task": false
    },
    "outputId": "30ed8c62-efe4-467b-a410-75dbe74d77ef"
   },
   "outputs": [
    {
     "name": "stdout",
     "output_type": "stream",
     "text": [
      "cuda\n"
     ]
    }
   ],
   "source": [
    "device = torch.device('cuda' if torch.cuda.is_available() else 'cpu')\n",
    "print(device)"
   ]
  },
  {
   "cell_type": "markdown",
   "metadata": {
    "deletable": false,
    "editable": false,
    "id": "MxLxEFGRdxeN",
    "nbgrader": {
     "cell_type": "markdown",
     "checksum": "59f571f63613360de65efdfd4b047043",
     "grade": false,
     "grade_id": "cell-409946cfba91b5f6",
     "locked": true,
     "schema_version": 3,
     "solution": false,
     "task": false
    }
   },
   "source": [
    "<h3> Download the dataset and create a dataloader to loop through mini batches of data. </h3>"
   ]
  },
  {
   "cell_type": "code",
   "execution_count": 5,
   "metadata": {
    "id": "f4MrRNXQdxeO"
   },
   "outputs": [],
   "source": [
    "dataset_path = './dataset_ex6' # you can change the path if you want to store the dataset somewhere else."
   ]
  },
  {
   "cell_type": "markdown",
   "metadata": {
    "deletable": false,
    "editable": false,
    "id": "hba_22AndxeP",
    "nbgrader": {
     "cell_type": "markdown",
     "checksum": "2b8d75a2198a478d6beaec28c69a3ab3",
     "grade": false,
     "grade_id": "cell-bf9b45101256ed5d",
     "locked": true,
     "schema_version": 3,
     "solution": false,
     "task": false
    }
   },
   "source": [
    "#### **2 - Dataset**"
   ]
  },
  {
   "cell_type": "markdown",
   "metadata": {
    "deletable": false,
    "editable": false,
    "id": "N36KCJ5NdxeP",
    "nbgrader": {
     "cell_type": "markdown",
     "checksum": "ad7bc4fa2503c83efa58c852d5de2c89",
     "grade": false,
     "grade_id": "cell-8c5b82526974b1bd",
     "locked": true,
     "schema_version": 3,
     "solution": false,
     "task": false
    }
   },
   "source": [
    "##### Creating Pytorch Dataset and Dataloader"
   ]
  },
  {
   "cell_type": "code",
   "execution_count": 7,
   "metadata": {
    "colab": {
     "base_uri": "https://localhost:8080/"
    },
    "deletable": false,
    "editable": false,
    "id": "k4stxKh4dxeQ",
    "nbgrader": {
     "cell_type": "code",
     "checksum": "ccdf11a32d954716e5a2976ef782e4b1",
     "grade": false,
     "grade_id": "cell-c1789af352f91149",
     "locked": true,
     "schema_version": 3,
     "solution": false,
     "task": false
    },
    "outputId": "a8a8dc64-1060-4796-85ad-0876b2fa1e8e"
   },
   "outputs": [
    {
     "name": "stdout",
     "output_type": "stream",
     "text": [
      "Downloading http://yann.lecun.com/exdb/mnist/train-images-idx3-ubyte.gz\n",
      "Failed to download (trying next):\n",
      "HTTP Error 403: Forbidden\n",
      "\n",
      "Downloading https://ossci-datasets.s3.amazonaws.com/mnist/train-images-idx3-ubyte.gz\n",
      "Downloading https://ossci-datasets.s3.amazonaws.com/mnist/train-images-idx3-ubyte.gz to ./dataset_ex6/MNIST/raw/train-images-idx3-ubyte.gz\n"
     ]
    },
    {
     "name": "stderr",
     "output_type": "stream",
     "text": [
      "100%|██████████| 9.91M/9.91M [00:00<00:00, 16.0MB/s]\n"
     ]
    },
    {
     "name": "stdout",
     "output_type": "stream",
     "text": [
      "Extracting ./dataset_ex6/MNIST/raw/train-images-idx3-ubyte.gz to ./dataset_ex6/MNIST/raw\n",
      "\n",
      "Downloading http://yann.lecun.com/exdb/mnist/train-labels-idx1-ubyte.gz\n",
      "Failed to download (trying next):\n",
      "HTTP Error 403: Forbidden\n",
      "\n",
      "Downloading https://ossci-datasets.s3.amazonaws.com/mnist/train-labels-idx1-ubyte.gz\n",
      "Downloading https://ossci-datasets.s3.amazonaws.com/mnist/train-labels-idx1-ubyte.gz to ./dataset_ex6/MNIST/raw/train-labels-idx1-ubyte.gz\n"
     ]
    },
    {
     "name": "stderr",
     "output_type": "stream",
     "text": [
      "100%|██████████| 28.9k/28.9k [00:00<00:00, 480kB/s]\n"
     ]
    },
    {
     "name": "stdout",
     "output_type": "stream",
     "text": [
      "Extracting ./dataset_ex6/MNIST/raw/train-labels-idx1-ubyte.gz to ./dataset_ex6/MNIST/raw\n",
      "\n",
      "Downloading http://yann.lecun.com/exdb/mnist/t10k-images-idx3-ubyte.gz\n",
      "Failed to download (trying next):\n",
      "HTTP Error 403: Forbidden\n",
      "\n",
      "Downloading https://ossci-datasets.s3.amazonaws.com/mnist/t10k-images-idx3-ubyte.gz\n",
      "Downloading https://ossci-datasets.s3.amazonaws.com/mnist/t10k-images-idx3-ubyte.gz to ./dataset_ex6/MNIST/raw/t10k-images-idx3-ubyte.gz\n"
     ]
    },
    {
     "name": "stderr",
     "output_type": "stream",
     "text": [
      "100%|██████████| 1.65M/1.65M [00:00<00:00, 4.44MB/s]\n"
     ]
    },
    {
     "name": "stdout",
     "output_type": "stream",
     "text": [
      "Extracting ./dataset_ex6/MNIST/raw/t10k-images-idx3-ubyte.gz to ./dataset_ex6/MNIST/raw\n",
      "\n",
      "Downloading http://yann.lecun.com/exdb/mnist/t10k-labels-idx1-ubyte.gz\n",
      "Failed to download (trying next):\n",
      "HTTP Error 403: Forbidden\n",
      "\n",
      "Downloading https://ossci-datasets.s3.amazonaws.com/mnist/t10k-labels-idx1-ubyte.gz\n",
      "Downloading https://ossci-datasets.s3.amazonaws.com/mnist/t10k-labels-idx1-ubyte.gz to ./dataset_ex6/MNIST/raw/t10k-labels-idx1-ubyte.gz\n"
     ]
    },
    {
     "name": "stderr",
     "output_type": "stream",
     "text": [
      "100%|██████████| 4.54k/4.54k [00:00<00:00, 5.83MB/s]\n"
     ]
    },
    {
     "name": "stdout",
     "output_type": "stream",
     "text": [
      "Extracting ./dataset_ex6/MNIST/raw/t10k-labels-idx1-ubyte.gz to ./dataset_ex6/MNIST/raw\n",
      "\n"
     ]
    }
   ],
   "source": [
    "#MNIST dataset\n",
    "transform = transforms.Compose([transforms.Resize(32),\n",
    "                                transforms.ToTensor(),\n",
    "                                transforms.Normalize((0.5), (0.5))])\n",
    "dataset = MNIST(root=dataset_path,\n",
    "                train=True,\n",
    "                transform=transform,\n",
    "                download=True,)\n",
    "\n",
    "train_size = 0.8\n",
    "test_size = 0.2\n",
    "train_dataset, test_dataset = random_split(dataset, [train_size, test_size])\n",
    "train_loader = DataLoader(train_dataset, batch_size=batch_size, shuffle=True)\n",
    "test_loader = DataLoader(test_dataset, batch_size=batch_size, shuffle=False)"
   ]
  },
  {
   "cell_type": "markdown",
   "metadata": {
    "deletable": false,
    "editable": false,
    "id": "A1Xx2m8LdxeQ",
    "nbgrader": {
     "cell_type": "markdown",
     "checksum": "b3c79a938d9ce96e276e2f56b8b395ec",
     "grade": false,
     "grade_id": "cell-571673aed935591f",
     "locked": true,
     "schema_version": 3,
     "solution": false,
     "task": false
    }
   },
   "source": [
    "<h3>Visualizing data</h3>\n",
    "\n",
    "The following code block visualizes the some of the images from the dataset."
   ]
  },
  {
   "cell_type": "code",
   "execution_count": 8,
   "metadata": {
    "colab": {
     "base_uri": "https://localhost:8080/",
     "height": 186
    },
    "deletable": false,
    "editable": false,
    "id": "M0jPary7dxeQ",
    "nbgrader": {
     "cell_type": "code",
     "checksum": "ff2508ef6b3bf47b53d445f30d026a0e",
     "grade": false,
     "grade_id": "cell-c3cc35f7da39365b",
     "locked": true,
     "schema_version": 3,
     "solution": false,
     "task": false
    },
    "outputId": "978c225d-2cb7-426c-881f-ebcdb03d471a"
   },
   "outputs": [
    {
     "name": "stdout",
     "output_type": "stream",
     "text": [
      "Batch shape: torch.Size([32, 1, 32, 32])\n"
     ]
    },
    {
     "data": {
      "image/png": "[encoded data removed]",
      "text/plain": [
       "<Figure size 1200x400 with 6 Axes>"
      ]
     },
     "metadata": {},
     "output_type": "display_data"
    }
   ],
   "source": [
    "batch, _ = next(iter(train_loader))\n",
    "displayed_images = batch[:6].squeeze(1)\n",
    "fig, ax = plt.subplots(1, 6, figsize=(12, 4))\n",
    "\n",
    "for i in range(6):\n",
    "    ax[i].imshow(displayed_images[i], cmap='gray')\n",
    "    ax[i].axis('off')\n",
    "\n",
    "print(f\"Batch shape: {batch.shape}\")"
   ]
  },
  {
   "cell_type": "markdown",
   "metadata": {
    "deletable": false,
    "editable": false,
    "id": "OFYaKRADdxeR",
    "nbgrader": {
     "cell_type": "markdown",
     "checksum": "4ca81ffaf57371768d499da3fea6d63a",
     "grade": false,
     "grade_id": "cell-53f5ca7d5f4ab24f",
     "locked": true,
     "schema_version": 3,
     "solution": false,
     "task": false
    }
   },
   "source": [
    "<h3>Task 1: Define the Model classes </h3>"
   ]
  },
  {
   "cell_type": "markdown",
   "metadata": {
    "deletable": false,
    "editable": false,
    "id": "_10KU9UedxeR",
    "nbgrader": {
     "cell_type": "markdown",
     "checksum": "9422602a49ddce3b336ba74e99c558b5",
     "grade": false,
     "grade_id": "cell-e75b241f0474abd0",
     "locked": true,
     "schema_version": 3,
     "solution": false,
     "task": false
    }
   },
   "source": [
    "<h4>Task 1.1: Define the Discriminator class </h4>\n",
    "\n",
    "\n",
    "<div style=\"text-align: center;\">\n",
    "    <img src=\"disc.png\" style=\"width:800px; height:auto;\"/>\n",
    "</div>"
   ]
  },
  {
   "cell_type": "code",
   "execution_count": null,
   "metadata": {
    "deletable": false,
    "id": "r88JQCJcdxeR",
    "nbgrader": {
     "cell_type": "code",
     "checksum": "bc5c056c6ba8df233fb4793a5960f2a4",
     "grade": false,
     "grade_id": "cell-08fbd857057d1dd8",
     "locked": false,
     "schema_version": 3,
     "solution": true,
     "task": false
    }
   },
   "outputs": [],
   "source": [
    "class Discriminator(nn.Module):\n",
    "    def __init__(self) -> None:\n",
    "        super().__init__()\n",
    "\n",
    "        self.conv1 = nn.Sequential(\n",
    "            nn.Conv2d(in_channels = 1, out_channels = 64, kernel_size=4, stride=2, padding=1),\n",
    "            nn.BatchNorm2d(64),\n",
    "            nn.ReLU(inplace=True)\n",
    "        )\n",
    "        self.conv2 = nn.Sequential(\n",
    "            nn.Conv2d(in_channels = 64, out_channels = 128, kernel_size=4, stride=2, padding=1),\n",
    "            nn.BatchNorm2d(128),\n",
    "            nn.ReLU(inplace=True)\n",
    "        )\n",
    "        self.conv3 = nn.Sequential(\n",
    "            nn.Conv2d(in_channels = 128, out_channels = 256, kernel_size=4, stride=2, padding=1),\n",
    "            nn.BatchNorm2d(256),\n",
    "            nn.ReLU(inplace=True)\n",
    "        )\n",
    "        self.conv4 = nn.Sequential(\n",
    "            nn.Conv2d(in_channels = 256, out_channels=1, kernel_size=4, stride=1, padding=0),\n",
    "            nn.Sigmoid()\n",
    "        )\n",
    "\n",
    "\n",
    "    def forward(self,\n",
    "                x:torch.Tensor) -> torch.Tensor:\n",
    "\n",
    "        out_conv1 = self.conv1(x)\n",
    "        out_conv2 = self.conv2(out_conv1)\n",
    "        out_conv3 = self.conv3(out_conv2)\n",
    "        out_conv4 = self.conv4(out_conv3)\n",
    "\n",
    "        out = torch.squeeze(out_conv4, (-1, -2))\n",
    "\n",
    "        return out"
   ]
  },
  {
   "cell_type": "markdown",
   "metadata": {
    "deletable": false,
    "editable": false,
    "id": "j7bmL1xOdxeT",
    "nbgrader": {
     "cell_type": "markdown",
     "checksum": "f7b9cd2c427a82a282d14747137c44e0",
     "grade": false,
     "grade_id": "cell-ec2526d709147378",
     "locked": true,
     "schema_version": 3,
     "solution": false,
     "task": false
    }
   },
   "source": [
    "<h4>Task 1.2: Define the Generator class </h4>\n",
    "\n",
    "<div style=\"text-align: center;\">\n",
    "    <img src=\"gen.png\" style=\"width:800px; height:auto;\"/>\n",
    "</div>"
   ]
  },
  {
   "cell_type": "code",
   "execution_count": null,
   "metadata": {
    "deletable": false,
    "id": "FScfP0W8dxeT",
    "nbgrader": {
     "cell_type": "code",
     "checksum": "8582b95464d90c0d108ca30c94fb2306",
     "grade": false,
     "grade_id": "cell-d537a2c488a09c68",
     "locked": false,
     "schema_version": 3,
     "solution": true,
     "task": false
    }
   },
   "outputs": [],
   "source": [
    "class Generator(nn.Module):\n",
    "    def __init__(self,\n",
    "                 noise_size:int,\n",
    "                 ) -> None:\n",
    "        super().__init__()\n",
    "\n",
    "        self.conv1 = nn.Sequential(\n",
    "            nn.ConvTranspose2d(in_channels = noise_size, out_channels = 256, kernel_size=4, stride=1, padding=0),\n",
    "            nn.BatchNorm2d(256),\n",
    "            nn.ReLU(inplace=True)\n",
    "        )\n",
    "        self.conv2 = nn.Sequential(\n",
    "            nn.ConvTranspose2d(in_channels = 256, out_channels = 128, kernel_size=4, stride=2, padding=1),\n",
    "            nn.BatchNorm2d(128),\n",
    "            nn.ReLU(inplace=True)\n",
    "        )\n",
    "        self.conv3 = nn.Sequential(\n",
    "            nn.ConvTranspose2d(in_channels = 128, out_channels = 64, kernel_size=4, stride=2, padding=1),\n",
    "            nn.BatchNorm2d(64),\n",
    "            nn.ReLU(inplace=True)\n",
    "        )\n",
    "        self.conv4 = nn.Sequential(\n",
    "            nn.ConvTranspose2d(in_channels = 64, out_channels=1, kernel_size=4, stride=2, padding=1),\n",
    "            nn.Tanh()\n",
    "        )\n",
    "\n",
    "    def forward(self,\n",
    "                x:torch.Tensor) -> torch.Tensor:\n",
    "        out_conv1 = self.conv1(x)\n",
    "        out_conv2 = self.conv2(out_conv1)\n",
    "        out_conv3 = self.conv3(out_conv2)\n",
    "        out_conv4 = self.conv4(out_conv3)\n",
    "        return out_conv4"
   ]
  },
  {
   "cell_type": "markdown",
   "metadata": {
    "deletable": false,
    "editable": false,
    "id": "M_DbK4N0dxeU",
    "nbgrader": {
     "cell_type": "markdown",
     "checksum": "d7fe5a66e4b3cd358be71ac3fcb57fca",
     "grade": false,
     "grade_id": "cell-0807e89bcfface2a",
     "locked": true,
     "schema_version": 3,
     "solution": false,
     "task": false
    }
   },
   "source": [
    "<h3> Task 2: Define the loss function and optimizer.</h3>\n"
   ]
  },
  {
   "cell_type": "code",
   "execution_count": null,
   "metadata": {
    "deletable": false,
    "id": "9PfT20IZdxeU",
    "nbgrader": {
     "cell_type": "code",
     "checksum": "f596d70e0c20a9f325b132e72b2d0f46",
     "grade": false,
     "grade_id": "cell-eb0fe9253b1eb4b6",
     "locked": false,
     "schema_version": 3,
     "solution": true,
     "task": false
    }
   },
   "outputs": [],
   "source": [
    "def loss_and_optimizer(generator:Generator,\n",
    "                       discriminator:Discriminator) -> tuple:\n",
    "    \"\"\"Get loss function and optimizers for the generator and discriminator.\n",
    "\n",
    "    :param generator: Generator model\n",
    "    :type generator: Generator\n",
    "    :param discriminator: Discriminator model\n",
    "    :type discriminator: Discriminator\n",
    "    :return: Loss function, generator optimizer, discriminator optimizer\n",
    "    :rtype: tuple\n",
    "    \"\"\"\n",
    "    criterion = nn.BCELoss()\n",
    "\n",
    "    g_optimizer = torch.optim.Adam(generator.parameters(), lr=0.0002)\n",
    "    d_optimizer = torch.optim.Adam(discriminator.parameters(), lr=0.0002)\n",
    "\n",
    "    return criterion, g_optimizer, d_optimizer"
   ]
  },
  {
   "cell_type": "code",
   "execution_count": 16,
   "metadata": {
    "deletable": false,
    "editable": false,
    "id": "HoONKnmjdxeV",
    "nbgrader": {
     "cell_type": "code",
     "checksum": "7e0a4df546569b3f34f3ee49610774ca",
     "grade": false,
     "grade_id": "cell-bf5436f61a0c869e",
     "locked": true,
     "schema_version": 3,
     "solution": false,
     "task": false
    }
   },
   "outputs": [],
   "source": [
    "generator = Generator(noise_size).to(device)\n",
    "discriminator = Discriminator().to(device)\n",
    "\n",
    "criterion, g_optimizer, d_optimizer = loss_and_optimizer(generator, discriminator)"
   ]
  },
  {
   "cell_type": "markdown",
   "metadata": {
    "deletable": false,
    "editable": false,
    "id": "LNiPw3BLdxeV",
    "nbgrader": {
     "cell_type": "markdown",
     "checksum": "cba465356cd945f72675e2e4b9a653d0",
     "grade": false,
     "grade_id": "cell-0069546c71effe4d",
     "locked": true,
     "schema_version": 3,
     "solution": false,
     "task": false
    }
   },
   "source": [
    "<h3> Task 3: Training loop.</h3>"
   ]
  },
  {
   "cell_type": "markdown",
   "metadata": {
    "deletable": false,
    "editable": false,
    "id": "wxda47ttdxeV",
    "nbgrader": {
     "cell_type": "markdown",
     "checksum": "8b6abbbfebf30f85316575f1847b7d69",
     "grade": false,
     "grade_id": "cell-1f58ffc6d94dd731",
     "locked": true,
     "schema_version": 3,
     "solution": false,
     "task": false
    }
   },
   "source": [
    "<h4>Task 3.1: Define discriminator loss</h4>\n",
    "\n",
    "The discriminator objective is to correctly classify the images into real and fake. <br>\n"
   ]
  },
  {
   "cell_type": "code",
   "execution_count": null,
   "metadata": {
    "deletable": false,
    "id": "2dLaXyptdxeV",
    "nbgrader": {
     "cell_type": "code",
     "checksum": "a4cb5a3de2e5147410b08da04ee79d53",
     "grade": false,
     "grade_id": "cell-27c34ab234a044c2",
     "locked": false,
     "schema_version": 3,
     "solution": true,
     "task": false
    }
   },
   "outputs": [],
   "source": [
    "def forward_discriminator(generator: Generator,\n",
    "                           discriminator: Discriminator,\n",
    "                           criterion: nn.Module,\n",
    "                           real_images: torch.Tensor,\n",
    "                           noise: torch.Tensor,\n",
    "                           device: torch.device) -> tuple:\n",
    "    \"\"\"Forward pass for the discriminator.\n",
    "\n",
    "    :param generator: Generator model\n",
    "    :type generator: Generator\n",
    "    :param discriminator: Discriminator model\n",
    "    :type discriminator: Discriminator\n",
    "    :param criterion: Loss function\n",
    "    :type criterion: nn.Module\n",
    "    :param real_images: Real images\n",
    "    :type real_images: torch.Tensor\n",
    "    :param noise: Noise vector\n",
    "    :type noise: torch.Tensor\n",
    "    :param device: Device (cuda or cpu)\n",
    "    :type device: torch.device\n",
    "    :return: Loss, real labels, fake labels (labels are returned for testing purposes)\n",
    "    :rtype: tuple\n",
    "    \"\"\"\n",
    "    real_labels = torch.ones(real_images.shape[:2]).to(device)\n",
    "\n",
    "    real_images = real_images.to(device)\n",
    "    noise = noise.to(device)\n",
    "\n",
    "    fake_images = generator(noise)\n",
    "    fake_images.detach()\n",
    "    fake_labels = torch.zeros(fake_images.shape[:2]).to(device)\n",
    "\n",
    "    fake_outputs = discriminator(fake_images)\n",
    "    real_outputs = discriminator(real_images)\n",
    "\n",
    "    d_loss_fake = criterion(fake_outputs, fake_labels)\n",
    "    d_loss_real = criterion(real_outputs, real_labels)\n",
    "\n",
    "    d_loss = d_loss_fake + d_loss_real\n",
    "    return d_loss, real_labels, fake_labels"
   ]
  },
  {
   "cell_type": "markdown",
   "metadata": {
    "deletable": false,
    "editable": false,
    "id": "B4Ia8UhMdxeW",
    "nbgrader": {
     "cell_type": "markdown",
     "checksum": "0acb9f39eb838917bded2fe0924199b5",
     "grade": false,
     "grade_id": "cell-b08153c5c226c9a3",
     "locked": true,
     "schema_version": 3,
     "solution": false,
     "task": false
    }
   },
   "source": [
    "<h4>Task 3.2: Define generator loss</h4>\n",
    "\n",
    "The generator objective is to create fake images that can fool the discriminator <br>"
   ]
  },
  {
   "cell_type": "code",
   "execution_count": null,
   "metadata": {
    "deletable": false,
    "id": "gycbZ1rjdxeW",
    "nbgrader": {
     "cell_type": "code",
     "checksum": "8c3c54788b89b638fccd0865dd7512c1",
     "grade": false,
     "grade_id": "cell-332ae13ea50a46f9",
     "locked": false,
     "schema_version": 3,
     "solution": true,
     "task": false
    }
   },
   "outputs": [],
   "source": [
    "def forward_generator(generator: Generator,\n",
    "                        discriminator: Discriminator,\n",
    "                        criterion: nn.Module,\n",
    "                        noise: torch.Tensor,\n",
    "                        device: torch.device) -> tuple:\n",
    "    \"\"\"Forward pass for the generator.\n",
    "\n",
    "    :param generator: Generator model\n",
    "    :type generator: Generator\n",
    "    :param discriminator: Discriminator model\n",
    "    :type discriminator: Discriminator\n",
    "    :param criterion: Loss function\n",
    "    :type criterion: nn.Module\n",
    "    :param noise: Noise vector\n",
    "    :type noise: torch.Tensor\n",
    "    :param device: Device (cuda or cpu)\n",
    "    :type device: torch.device\n",
    "    :return: Loss, labels (labels are returned for testing purposes)\n",
    "    :rtype: tuple\n",
    "    \"\"\"\n",
    "    fake_images = generator(noise)\n",
    "    fake_labels = torch.ones(fake_images.shape[:2]).to(device)\n",
    "    discriminator_output = discriminator(fake_images)\n",
    "    g_loss = criterion(discriminator_output, fake_labels)\n",
    "    return g_loss, fake_labels\n"
   ]
  },
  {
   "cell_type": "markdown",
   "metadata": {
    "deletable": false,
    "editable": false,
    "id": "_ZToe5cydxeX",
    "nbgrader": {
     "cell_type": "markdown",
     "checksum": "96664221d0d631f09758020ed58d6d3c",
     "grade": false,
     "grade_id": "cell-b61f6db20f03e1e7",
     "locked": true,
     "schema_version": 3,
     "solution": false,
     "task": false
    }
   },
   "source": [
    "<h4>Task 3.3: Define training loop</h4>\n"
   ]
  },
  {
   "cell_type": "code",
   "execution_count": null,
   "metadata": {
    "deletable": false,
    "id": "OyIsiCBkdxeX",
    "nbgrader": {
     "cell_type": "code",
     "checksum": "db4f2c51be9bedb10f2d478d9b606017",
     "grade": false,
     "grade_id": "cell-bc2cd814a46e2c3f",
     "locked": false,
     "schema_version": 3,
     "solution": true,
     "task": false
    }
   },
   "outputs": [],
   "source": [
    "test_img = torch.randn(64, 100, 1, 1).to(device) # fixed noise for visualization during training\n",
    "\n",
    "def train_gan(generator: Generator,\n",
    "              discriminator: Discriminator,\n",
    "              g_optimizer: torch.optim.Optimizer,\n",
    "              d_optimizer: torch.optim.Optimizer,\n",
    "              train_dataloader: DataLoader,\n",
    "              noise_size: torch.Tensor,\n",
    "              loss: nn.Module,\n",
    "              device: torch.device,\n",
    "              max_epochs: int = 20,\n",
    "              verbose: bool = True) -> tuple:\n",
    "    \"\"\"Train the GAN model.\n",
    "\n",
    "    :param generator: Generator model\n",
    "    :type generator: Generator\n",
    "    :param discriminator: Discriminator model\n",
    "    :type discriminator: Discriminator\n",
    "    :param g_optimizer: Generator optimizer\n",
    "    :type g_optimizer: torch.optim.Optimizer\n",
    "    :param d_optimizer: Discriminator optimizer\n",
    "    :type d_optimizer: torch.optim.Optimizer\n",
    "    :param train_dataloader: Training dataloader\n",
    "    :type train_dataloader: DataLoader\n",
    "    :param noise_size: Noise vector size\n",
    "    :type noise_size: torch.Tensor\n",
    "    :param loss: Loss function\n",
    "    :type loss: nn.Module\n",
    "    :param device: Device (cuda or cpu)\n",
    "    :type device: torch.device\n",
    "    :param max_epochs: Max number of training epochs, defaults to 20\n",
    "    :type max_epochs: int, optional\n",
    "    :param verbose: Printing out training process?, defaults to True\n",
    "    :type verbose: bool, optional\n",
    "    :return: Generator losses, Discriminator losses\n",
    "    :rtype: tuple\n",
    "    \"\"\"\n",
    "    generator_losses = []\n",
    "    discriminator_losses = []\n",
    "\n",
    "    generator.train()\n",
    "    discriminator.train()\n",
    "\n",
    "    for epoch in range(max_epochs):\n",
    "        generator_batch_losses = []\n",
    "        discriminator_batch_losses = []\n",
    "        for i, (real_images, _) in enumerate(train_dataloader):\n",
    "\n",
    "            # Move the images to the device\n",
    "            # Create the noise vector of size (batch_size, noise_size, 1, 1)\n",
    "            real_images = real_images.to(device)\n",
    "            noise = torch.randn(batch_size, noise_size, 1, 1).to(device)\n",
    "\n",
    "\n",
    "            # Train the discriminator\n",
    "            d_optimizer.zero_grad()\n",
    "            d_loss, _, _ = forward_discriminator(generator, discriminator, loss, real_images, noise, device)\n",
    "            d_loss.backward()\n",
    "            d_optimizer.step()\n",
    "\n",
    "\n",
    "            # Train the generator\n",
    "            g_optimizer.zero_grad()\n",
    "            g_loss, _ = forward_generator(generator, discriminator, loss, noise, device)\n",
    "            g_loss.backward()\n",
    "            g_optimizer.step()\n",
    "\n",
    "\n",
    "            generator_batch_losses.append(g_loss.item())\n",
    "            discriminator_batch_losses.append(d_loss.item())\n",
    "\n",
    "        # Visualize the generated images during training on fixed noise\n",
    "        if verbose:\n",
    "            print(f\"Epoch {epoch}: Generator loss: {np.mean(generator_batch_losses):.2f}. Discriminator loss: {np.mean(discriminator_batch_losses):2f}\")\n",
    "            if epoch % 5 == 0:\n",
    "                sample_gen_imgs_in_train = generator(test_img).detach().cpu().squeeze()\n",
    "                nrow, ncols = 1, 5\n",
    "                fig, axes = plt.subplots(nrows=nrow,ncols=ncols, figsize=(6,1.5))\n",
    "                plt.suptitle(f'Epoch : {epoch}')\n",
    "                for ncol in range(ncols):\n",
    "                    axes[ncol].imshow(sample_gen_imgs_in_train[ncol], cmap='gray')\n",
    "                    axes[ncol].axis('off')\n",
    "                plt.show()\n",
    "\n",
    "        generator_losses.append(np.mean(generator_batch_losses))\n",
    "        discriminator_losses.append(np.mean(discriminator_batch_losses))\n",
    "\n",
    "    return generator_losses, discriminator_losses"
   ]
  },
  {
   "cell_type": "code",
   "execution_count": 28,
   "metadata": {
    "colab": {
     "base_uri": "https://localhost:8080/",
     "height": 902
    },
    "deletable": false,
    "editable": false,
    "id": "6AawRFOMdxeY",
    "nbgrader": {
     "cell_type": "code",
     "checksum": "ca87a5cc041ff4b9a221c440ae9a954b",
     "grade": false,
     "grade_id": "cell-3cdf9e8e702826d1",
     "locked": true,
     "schema_version": 3,
     "solution": false,
     "task": false
    },
    "outputId": "1b2b57e3-ccb8-4d75-87f0-853087a869cd"
   },
   "outputs": [
    {
     "name": "stdout",
     "output_type": "stream",
     "text": [
      "Epoch 0: Generator loss: 8.33. Discriminator loss: 0.010079\n"
     ]
    },
    {
     "data": {
      "image/png": "[encoded data removed]",
      "text/plain": [
       "<Figure size 600x150 with 5 Axes>"
      ]
     },
     "metadata": {},
     "output_type": "display_data"
    },
    {
     "name": "stdout",
     "output_type": "stream",
     "text": [
      "Epoch 1: Generator loss: 5.89. Discriminator loss: 0.100316\n",
      "Epoch 2: Generator loss: 4.61. Discriminator loss: 0.174850\n",
      "Epoch 3: Generator loss: 4.80. Discriminator loss: 0.157844\n",
      "Epoch 4: Generator loss: 5.29. Discriminator loss: 0.106201\n",
      "Epoch 5: Generator loss: 5.79. Discriminator loss: 0.092256\n"
     ]
    },
    {
     "data": {
      "image/png": "[encoded data removed]",
      "text/plain": [
       "<Figure size 600x150 with 5 Axes>"
      ]
     },
     "metadata": {},
     "output_type": "display_data"
    },
    {
     "name": "stdout",
     "output_type": "stream",
     "text": [
      "Epoch 6: Generator loss: 6.45. Discriminator loss: 0.065761\n",
      "Epoch 7: Generator loss: 6.47. Discriminator loss: 0.069869\n",
      "Epoch 8: Generator loss: 7.19. Discriminator loss: 0.047387\n",
      "Epoch 9: Generator loss: 7.14. Discriminator loss: 0.045250\n",
      "Epoch 10: Generator loss: 8.01. Discriminator loss: 0.026829\n"
     ]
    },
    {
     "data": {
      "image/png": "[encoded data removed]",
      "text/plain": [
       "<Figure size 600x150 with 5 Axes>"
      ]
     },
     "metadata": {},
     "output_type": "display_data"
    },
    {
     "name": "stdout",
     "output_type": "stream",
     "text": [
      "Epoch 11: Generator loss: 7.70. Discriminator loss: 0.045121\n",
      "Epoch 12: Generator loss: 8.02. Discriminator loss: 0.034355\n",
      "Epoch 13: Generator loss: 7.60. Discriminator loss: 0.044576\n",
      "Epoch 14: Generator loss: 8.02. Discriminator loss: 0.031261\n",
      "Epoch 15: Generator loss: 9.20. Discriminator loss: 0.004734\n"
     ]
    },
    {
     "data": {
      "image/png": "[encoded data removed]",
      "text/plain": [
       "<Figure size 600x150 with 5 Axes>"
      ]
     },
     "metadata": {},
     "output_type": "display_data"
    },
    {
     "name": "stdout",
     "output_type": "stream",
     "text": [
      "Epoch 16: Generator loss: 8.03. Discriminator loss: 0.051586\n",
      "Epoch 17: Generator loss: 8.56. Discriminator loss: 0.022881\n",
      "Epoch 18: Generator loss: 9.17. Discriminator loss: 0.013828\n",
      "Epoch 19: Generator loss: 8.17. Discriminator loss: 0.037563\n",
      "Your trained model is saved successfully!\n"
     ]
    }
   ],
   "source": [
    "generator = Generator(noise_size).to(device)\n",
    "discriminator = Discriminator().to(device)\n",
    "\n",
    "if not skip_training:\n",
    "    criterion, g_optimizer, d_optimizer = loss_and_optimizer(generator, discriminator)\n",
    "    gen_losses, disc_losses = train_gan(generator, discriminator, g_optimizer, d_optimizer, train_loader, noise_size, criterion, device, max_epochs=max_epochs, verbose=True)\n",
    "    torch.save(generator.state_dict(), 'best_generator.pth')\n",
    "    torch.save(discriminator.state_dict(), 'best_discriminator.pth')\n",
    "    print(\"Your trained model is saved successfully!\")\n",
    "else:\n",
    "    generator.load_state_dict(torch.load('best_generator.pth', map_location=device))\n",
    "    discriminator.load_state_dict(torch.load('best_discriminator.pth', map_location=device))"
   ]
  },
  {
   "cell_type": "code",
   "execution_count": 29,
   "metadata": {
    "colab": {
     "base_uri": "https://localhost:8080/",
     "height": 102
    },
    "deletable": false,
    "editable": false,
    "id": "2t3dkA-GdxeY",
    "nbgrader": {
     "cell_type": "code",
     "checksum": "9c066b744b988c0a52283dcbb0cf1621",
     "grade": false,
     "grade_id": "cell-b3eb9d7a18028b91",
     "locked": true,
     "schema_version": 3,
     "solution": false,
     "task": false
    },
    "outputId": "03d26cb1-b8eb-4ad3-a796-368845596b04"
   },
   "outputs": [
    {
     "data": {
      "image/png": "[encoded data removed]",
      "text/plain": [
       "<Figure size 1000x150 with 10 Axes>"
      ]
     },
     "metadata": {},
     "output_type": "display_data"
    }
   ],
   "source": [
    "test_img = torch.randn(64, 100, 1, 1).to(device)\n",
    "sample_gen_imgs_in_train = generator(test_img).detach().cpu().squeeze()\n",
    "nrow, ncols = 1, 10\n",
    "fig, axes = plt.subplots(nrows=nrow,ncols=ncols, figsize=(10,1.5))\n",
    "for ncol in range(ncols):\n",
    "    axes[ncol].imshow(sample_gen_imgs_in_train[ncol], cmap='gray')\n",
    "    axes[ncol].axis('off')\n",
    "plt.show()"
   ]
  }
 ],
 "metadata": {
  "accelerator": "GPU",
  "colab": {
   "gpuType": "T4",
   "provenance": []
  },
  "kernelspec": {
   "display_name": "Python 3",
   "name": "python3"
  },
  "language_info": {
   "codemirror_mode": {
    "name": "ipython",
    "version": 3
   },
   "file_extension": ".py",
   "mimetype": "text/x-python",
   "name": "python",
   "nbconvert_exporter": "python",
   "pygments_lexer": "ipython3",
   "version": "3.10.15"
  }
 },
 "nbformat": 4,
 "nbformat_minor": 0
}
