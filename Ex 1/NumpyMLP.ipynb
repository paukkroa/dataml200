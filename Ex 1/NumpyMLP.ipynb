{
 "cells": [
  {
   "cell_type": "markdown",
   "id": "4f128eda",
   "metadata": {
    "deletable": false,
    "editable": false,
    "nbgrader": {
     "cell_type": "markdown",
     "checksum": "b2d0db7c4138413f972b2bb68affaa23",
     "grade": false,
     "grade_id": "cell-4fefb1f0dee49d3c",
     "locked": true,
     "schema_version": 3,
     "solution": false,
     "task": false
    },
    "slideshow": {
     "slide_type": ""
    },
    "tags": []
   },
   "source": [
    "# Exercise 1\n",
    "## Part 2. NumPy Implementation for Network Training"
   ]
  },
  {
   "cell_type": "markdown",
   "id": "c89cd07c",
   "metadata": {
    "deletable": false,
    "editable": false,
    "nbgrader": {
     "cell_type": "markdown",
     "checksum": "a518c426b6019bd60105e21b2221bf18",
     "grade": false,
     "grade_id": "cell-61d9f24eac121db2",
     "locked": true,
     "schema_version": 3,
     "solution": false,
     "task": false
    },
    "slideshow": {
     "slide_type": ""
    },
    "tags": []
   },
   "source": [
    "Architecture\n",
    "1. Linear layer: implementation of backward and forward passes and parameter update\n",
    "2. Tanh activation function: implementation of backward and forward passes\n",
    "3. Multilayer Perceptron (MLP): building the model architecture by combining Linear and Tanh layers\n",
    "4. Mean Squared Error Loss: computation of the loss and its gradients with respect to the model's output\n",
    "5. Training loop: no implementation is required\n",
    "\n",
    "\n",
    "<div style=\"text-align: center;\">\n",
    "    <figure>\n",
    "        <img src=\"ex1_graph_01-3.png\" alt=\"Image Title\" style=\"width:900px; height:auto;\"/>\n",
    "        <figcaption>Figure 1: Forward and Backward Pass in the MLP</figcaption>\n",
    "    </figure>\n",
    "</div>\n"
   ]
  },
  {
   "cell_type": "code",
   "execution_count": 1,
   "id": "bd17ca3d",
   "metadata": {
    "deletable": false,
    "editable": false,
    "nbgrader": {
     "cell_type": "code",
     "checksum": "12ec913cc1dfaca927716098a2800653",
     "grade": false,
     "grade_id": "cell-a816492239a1ccff",
     "locked": true,
     "schema_version": 3,
     "solution": false,
     "task": false
    },
    "slideshow": {
     "slide_type": ""
    },
    "tags": []
   },
   "outputs": [],
   "source": [
    "# Import libraries\n",
    "\n",
    "import matplotlib.pyplot as plt\n",
    "import numpy as np\n",
    "\n",
    "from IPython import display"
   ]
  },
  {
   "cell_type": "code",
   "execution_count": 2,
   "id": "0dc130b3",
   "metadata": {
    "deletable": false,
    "editable": true,
    "nbgrader": {
     "cell_type": "code",
     "checksum": "36554908cf941f36650afa9e4ea94486",
     "grade": false,
     "grade_id": "cell-331438facc0f32cb",
     "locked": false,
     "schema_version": 3,
     "solution": true,
     "task": false
    },
    "slideshow": {
     "slide_type": ""
    },
    "tags": []
   },
   "outputs": [],
   "source": [
    "# Network class\n",
    "class Linear:\n",
    "    def __init__(self, input_dim, output_dim, initial_weights=None, initial_biases=None):\n",
    "        \"\"\"\n",
    "        Initialize weights and biases\n",
    "        \n",
    "        Args:\n",
    "        - input_dim (int): Number of input features.\n",
    "        - output_dim (int): Number of output features.\n",
    "        - initial_weights (np.array): Initial weights of shape (output_dim, input_dim).\n",
    "        - initial_biases (np.array): Initial biases of shape (output_dim,).\n",
    "        \"\"\"\n",
    "        if initial_weights is None: initial_weights = np.random.randn(output_dim, input_dim)\n",
    "        if initial_biases is None: initial_biases = np.random.randn(output_dim)\n",
    "        self.weights = initial_weights\n",
    "        self.biases = initial_biases\n",
    "        \n",
    "    def forward(self, x):\n",
    "        \"\"\"\n",
    "        Compute the linear transformation\n",
    "        \n",
    "        Args:\n",
    "        - x (np.array): Input data of shape (num_samples, input_dim).\n",
    "        \n",
    "        Returns:\n",
    "        - output (np.array): Output data of shape (num_samples, output_dim).\n",
    "        \"\"\"\n",
    "        self.x = x # Store this for backward pass\n",
    "\n",
    "        # Compute forward pass\n",
    "        self.output = np.dot(self.x, self.weights.T) + self.biases\n",
    "        return self.output\n",
    "    \n",
    "    def backward(self, grad_output):\n",
    "        \"\"\"\n",
    "        Perform the backward pass of the Linear layer.\n",
    "        \n",
    "        Args:\n",
    "        - grad_output (np.array): Gradient of the loss with respect to the output with shape (num_samples, output_dim).\n",
    "        \n",
    "        Returns:\n",
    "        - grad_input (np.array): Gradient of the loss with respect to the input with shape (num_samples, input_dim).\n",
    "        \"\"\"\n",
    "        # Compute self.grad_weights, self.grad_biases, self.grad_input \n",
    "        assert hasattr(self, 'x'), 'Perform forward pass first.'\n",
    "\n",
    "        self.grad_weights = np.dot(grad_output.T, self.x) # Gradient of loss w.r.t. weights\n",
    "        self.grad_biases = np.sum(grad_output, axis=0) # Gradient of loss w.r.t. biases\n",
    "        self.grad_input = np.dot(grad_output, self.weights) # Gradient of loss w.r.t. input\n",
    "        \n",
    "        return self.grad_input\n",
    "    \n",
    "    def update_params(self, learning_rate):\n",
    "        \"\"\"\n",
    "        Update the weights and biases using the calculated gradients.\n",
    "        \n",
    "        Args:\n",
    "        - learning_rate (float): Learning rate for updating parameters.\n",
    "        \"\"\"\n",
    "        # Update parameters using calculated gradients\n",
    "        self.weights -= learning_rate * self.grad_weights\n",
    "        self.biases -= learning_rate * self.grad_biases\n"
   ]
  },
  {
   "cell_type": "code",
   "execution_count": 3,
   "id": "e3fe37c8",
   "metadata": {
    "deletable": false,
    "editable": true,
    "nbgrader": {
     "cell_type": "code",
     "checksum": "4556e2cf88d578bfd116b4dca44e6013",
     "grade": false,
     "grade_id": "cell-8314a55136701073",
     "locked": false,
     "schema_version": 3,
     "solution": true,
     "task": false
    },
    "slideshow": {
     "slide_type": ""
    },
    "tags": []
   },
   "outputs": [],
   "source": [
    "# Activation function\n",
    "class Tanh:\n",
    "    def forward(self, x):\n",
    "        \"\"\"\n",
    "        Apply the Tanh activation function.\n",
    "        \n",
    "        Args:\n",
    "        - x (np.array): Input data of shape (num_samples, input_dim).\n",
    "        \n",
    "        Returns:\n",
    "        - output (np.array): Activated output data of shape (num_samples, input_dim).\n",
    "        \"\"\"\n",
    "        self.x = x # Keep this for backward computation\n",
    "\n",
    "        # Compute forward pass\n",
    "        self.output = np.tanh(self.x)\n",
    "        return self.output\n",
    "    \n",
    "    def backward(self, grad_output):\n",
    "        \"\"\"\n",
    "        Compute the gradient of the loss with respect to the input of Tanh.\n",
    "        \n",
    "        Args:\n",
    "        - grad_output (np.array): Gradient of the loss with respect to the output.\n",
    "        \n",
    "        Returns:\n",
    "        - grad_input (np.array): Gradient of the loss with respect to the input.\n",
    "        \"\"\"\n",
    "        assert hasattr(self, 'x'), 'Perform forward pass first.'\n",
    "\n",
    "        # Compute the gradient of the loss w.r.t. the input\n",
    "        self.grad_input = grad_output * (1 - np.tanh(self.x)**2)\n",
    "        return self.grad_input"
   ]
  },
  {
   "cell_type": "code",
   "execution_count": 4,
   "id": "9ba46841",
   "metadata": {
    "deletable": false,
    "editable": true,
    "nbgrader": {
     "cell_type": "code",
     "checksum": "18cb38b6a8cd7b952423ee4def39477c",
     "grade": false,
     "grade_id": "cell-71e8fc3e6004d212",
     "locked": false,
     "schema_version": 3,
     "solution": true,
     "task": false
    },
    "slideshow": {
     "slide_type": ""
    },
    "tags": []
   },
   "outputs": [],
   "source": [
    "# Create the MLP\n",
    "class MLP:\n",
    "    def __init__(self, input_dim, hidden_dim, output_dim):\n",
    "        \"\"\"\n",
    "        Initialize the MLP with the necessary layers.\n",
    "        \n",
    "        Args:\n",
    "        - input_dim (int): Number of input features.\n",
    "        - hidden_dim (int): Number of units in the hidden layer.\n",
    "        - output_dim (int): Number of units in the output layer.\n",
    "        \"\"\"\n",
    "        # Initialize the linear layers and activation function\n",
    "        self.linear1 = Linear(input_dim, hidden_dim)\n",
    "        self.activation = Tanh()\n",
    "        self.linear2 = Linear(hidden_dim, output_dim)\n",
    "        \n",
    "    def forward(self, x):\n",
    "        \"\"\"\n",
    "        Forward pass through the MLP.\n",
    "        \n",
    "        Args:\n",
    "        - x (np.array): Input data.\n",
    "        \n",
    "        Returns:\n",
    "        - output (np.array): Output of the MLP.\n",
    "        \"\"\"\n",
    "        hidden = self.linear1.forward(x)\n",
    "        activated_hidden = self.activation.forward(hidden) \n",
    "        output = self.linear2.forward(activated_hidden)\n",
    "        return output\n",
    "    \n",
    "    def backward(self, grad_output):\n",
    "        \"\"\"\n",
    "        Backward pass through the MLP.\n",
    "        \n",
    "        Args:\n",
    "        - grad_output (np.array): Gradient of the loss with respect to the MLP output.\n",
    "        \n",
    "        Returns:\n",
    "        - grad_input (np.array): Gradient of the loss with respect to the MLP input.\n",
    "        \"\"\"\n",
    "        self.linear2.backward(grad_output)\n",
    "        self.activation.backward(self.linear2.grad_input)\n",
    "        self.linear1.backward(self.activation.grad_input)\n",
    "        grad_input = self.linear1.grad_input\n",
    "        return grad_input\n",
    "    \n",
    "    def update_params(self, learning_rate):\n",
    "        \"\"\"\n",
    "        Update the parameters of the MLP.\n",
    "        \n",
    "        Args:\n",
    "        - learning_rate (float): Learning rate for parameter updates.\n",
    "        \"\"\"\n",
    "        # Update the parameters of each linear layer\n",
    "        self.linear1.update_params(learning_rate)\n",
    "        self.linear2.update_params(learning_rate)"
   ]
  },
  {
   "cell_type": "code",
   "execution_count": 5,
   "id": "1ef7e822",
   "metadata": {
    "deletable": false,
    "editable": true,
    "nbgrader": {
     "cell_type": "code",
     "checksum": "2cdda62570621565b7ef587f552a3b0d",
     "grade": false,
     "grade_id": "cell-044d8fe576a0cc15",
     "locked": false,
     "schema_version": 3,
     "solution": true,
     "task": false
    },
    "slideshow": {
     "slide_type": ""
    },
    "tags": []
   },
   "outputs": [],
   "source": [
    "# Loss function\n",
    "class MSELoss:\n",
    "    def forward(self, y, t):\n",
    "        \"\"\"\n",
    "        Compute the mean squared error loss.\n",
    "        \n",
    "        Args:\n",
    "        - y (np.array): Predicted values.\n",
    "        - t (np.array): True values.\n",
    "        \n",
    "        Returns:\n",
    "        - loss (float): Computed MSE loss.\n",
    "        \"\"\"        \n",
    "        # ! Store inputs as class attribute to prevent any changes between two passes\n",
    "        self.y = y\n",
    "        self.t = t\n",
    "        loss = np.mean((y-t)**2)\n",
    "        return loss\n",
    "    \n",
    "    def backward(self):\n",
    "        \"\"\"\n",
    "        Compute the gradient of the loss with respect to the predicted output.\n",
    "        \n",
    "        Returns:\n",
    "        - grad_input (np.array): Gradient of the loss with respect to the predicted output.\n",
    "        \"\"\"\n",
    "        self.grad_input = 2 * (self.y - self.t) / self.y.size\n",
    "        return self.grad_input"
   ]
  },
  {
   "cell_type": "code",
   "execution_count": 6,
   "id": "428decfd",
   "metadata": {
    "deletable": false,
    "editable": false,
    "nbgrader": {
     "cell_type": "code",
     "checksum": "70079bd06d0323970ee3d329f2a90e08",
     "grade": false,
     "grade_id": "cell-d338462aa3898881",
     "locked": true,
     "schema_version": 3,
     "solution": false,
     "task": false
    },
    "slideshow": {
     "slide_type": ""
    },
    "tags": []
   },
   "outputs": [],
   "source": [
    "# Generate random data (in this case mimicking a quadratic function)\n",
    "def generate_data(num_samples=100):\n",
    "    np.random.seed(4)\n",
    "    x = np.linspace(-1, 1, num_samples)\n",
    "    noise = np.random.randn(x.shape[0]) * 0.2\n",
    "    y = 2 * x**2 + 3 + noise\n",
    "    \n",
    "    x = np.expand_dims(x,1)\n",
    "    y = np.expand_dims(y,1)\n",
    "    \n",
    "    return x, y"
   ]
  },
  {
   "cell_type": "code",
   "execution_count": 7,
   "id": "47e3de4f-8950-4b14-9775-b02c255c30f6",
   "metadata": {
    "deletable": false,
    "editable": false,
    "nbgrader": {
     "cell_type": "code",
     "checksum": "c86c3888a6da34cc7ffe09c1810b6e63",
     "grade": false,
     "grade_id": "cell-92306aedbbb7642a",
     "locked": true,
     "schema_version": 3,
     "solution": false,
     "task": false
    }
   },
   "outputs": [],
   "source": [
    "update_plot = True # This will be used to visualize your training loss curve over epochs"
   ]
  },
  {
   "cell_type": "code",
   "execution_count": 8,
   "id": "48a69ea3",
   "metadata": {
    "deletable": false,
    "editable": false,
    "nbgrader": {
     "cell_type": "code",
     "checksum": "cc1f184b71b70709e740c805498805f3",
     "grade": false,
     "grade_id": "cell-b9f088af4a1038ed",
     "locked": true,
     "schema_version": 3,
     "solution": false,
     "task": false
    },
    "slideshow": {
     "slide_type": ""
    },
    "tags": []
   },
   "outputs": [
    {
     "data": {
      "image/png": "[encoded data removed]",
      "text/plain": [
       "<Figure size 640x480 with 1 Axes>"
      ]
     },
     "metadata": {},
     "output_type": "display_data"
    }
   ],
   "source": [
    "# Hyperparameters\n",
    "input_dim = 1\n",
    "hidden_dim = 10\n",
    "output_dim = 1\n",
    "learning_rate = 0.1\n",
    "epochs = 150\n",
    "\n",
    "# Initialize the MLP model and MSE Loss function\n",
    "mlp = MLP(input_dim=input_dim, hidden_dim=hidden_dim, output_dim=output_dim)\n",
    "mse_loss = MSELoss()\n",
    "\n",
    "# Generate data\n",
    "x, y_train = generate_data()\n",
    "\n",
    "# Plot setup\n",
    "fig, ax = plt.subplots()\n",
    "ax.plot(x, y_train, 'b.', label='Data points')  # Plot the original data\n",
    "line1, = ax.plot(x, np.full_like(y_train, min(y_train) - 0.1), 'r-', label='Predictions')\n",
    "ax.grid(True)\n",
    "ax.set_title(f'MLP Training - Iteration 0/{epochs}')\n",
    "ax.set_xlabel('Input')\n",
    "ax.set_ylabel('Output')\n",
    "plt.legend()\n",
    "\n",
    "# Training loop\n",
    "losses = []\n",
    "for epoch in range(epochs):\n",
    "    # Forward pass\n",
    "    y_pred = mlp.forward(x)\n",
    "\n",
    "    # Compute loss\n",
    "    loss = mse_loss.forward(y_pred, y_train)\n",
    "    losses.append(loss)\n",
    "    \n",
    "    # Gradients\n",
    "    grad_loss = mse_loss.backward()\n",
    "    mlp.backward(grad_loss)\n",
    "    mlp.update_params(learning_rate)\n",
    "\n",
    "    if update_plot:\n",
    "        # Update the plot \n",
    "        line1.set_ydata(y_pred) \n",
    "        ax.set_title(f'MLP Training - Iteration {epoch + 1}/{epochs} - Loss: {loss:.4f}')\n",
    "        plt.pause(0.05)  \n",
    "        display.clear_output(wait=True)\n",
    "        display.display(fig)\n",
    "        \n",
    "display.clear_output(wait=True)\n",
    "plt.show()\n",
    "assert loss.item() < 0.15, 'Loss is too high, check your implementation.'"
   ]
  }
 ],
 "metadata": {
  "kernelspec": {
   "display_name": "dataml200",
   "language": "python",
   "name": "python3"
  },
  "language_info": {
   "codemirror_mode": {
    "name": "ipython",
    "version": 3
   },
   "file_extension": ".py",
   "mimetype": "text/x-python",
   "name": "python",
   "nbconvert_exporter": "python",
   "pygments_lexer": "ipython3",
   "version": "3.10.15"
  }
 },
 "nbformat": 4,
 "nbformat_minor": 5
}
