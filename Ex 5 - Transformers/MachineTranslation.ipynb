{
 "cells": [
  {
   "cell_type": "markdown",
   "id": "90f7199d-c442-4732-ab89-83bda42682a7",
   "metadata": {
    "deletable": false,
    "editable": false,
    "id": "90f7199d-c442-4732-ab89-83bda42682a7",
    "nbgrader": {
     "cell_type": "markdown",
     "checksum": "de21aae042b148f4ce345abc2630f326",
     "grade": false,
     "grade_id": "cell-b2bf973e50b54a30",
     "locked": true,
     "schema_version": 3,
     "solution": false,
     "task": false
    },
    "tags": []
   },
   "source": [
    "# Exercise 5: Machine Translation with Transformers\n"
   ]
  },
  {
   "cell_type": "code",
   "execution_count": 1,
   "id": "b6f8445f",
   "metadata": {
    "editable": true,
    "id": "b6f8445f",
    "tags": []
   },
   "outputs": [],
   "source": [
    "skip_training = False   # You can set it to True if you want to run inference on your trained model."
   ]
  },
  {
   "cell_type": "code",
   "execution_count": 3,
   "id": "959359d2-e60b-4dec-a5eb-d7dabe3f1a5f",
   "metadata": {
    "editable": true,
    "id": "959359d2-e60b-4dec-a5eb-d7dabe3f1a5f",
    "tags": []
   },
   "outputs": [],
   "source": [
    "path = \"/content/dataset_ex5\" # you can change the path if you want to store the dataset somewhere else."
   ]
  },
  {
   "cell_type": "markdown",
   "id": "cbdb6f08",
   "metadata": {
    "deletable": false,
    "editable": false,
    "id": "cbdb6f08",
    "nbgrader": {
     "cell_type": "markdown",
     "checksum": "8527fd780788625a34b40348b30de440",
     "grade": false,
     "grade_id": "cell-39478e54ddb16815",
     "locked": true,
     "schema_version": 3,
     "solution": false,
     "task": false
    },
    "tags": []
   },
   "source": [
    "Import all necessary libraries."
   ]
  },
  {
   "cell_type": "code",
   "execution_count": 5,
   "id": "0b6feccd",
   "metadata": {
    "editable": true,
    "id": "0b6feccd",
    "tags": []
   },
   "outputs": [],
   "source": [
    "import numpy as np\n",
    "import pandas as pd\n",
    "import matplotlib.pyplot as plt\n",
    "import math\n",
    "import os\n",
    "from collections import Counter\n",
    "\n",
    "import torch\n",
    "import torch.nn as nn\n",
    "from torch.utils.data import Dataset, DataLoader\n",
    "from torch.utils.data import random_split\n",
    "import torch.nn.functional as F\n",
    "import torch.optim as optim\n",
    "\n",
    "import warnings\n",
    "warnings.filterwarnings(\"ignore\")\n",
    "\n",
    "# Set random seeds for all libraries\n",
    "import random\n",
    "random.seed(1)\n",
    "np.random.seed(1)\n",
    "torch.manual_seed(1)\n",
    "torch.cuda.manual_seed(1)\n",
    "torch.cuda.manual_seed_all(1)\n",
    "\n",
    "# Ensure deterministic behavior\n",
    "torch.backends.cudnn.deterministic = True\n",
    "torch.backends.cudnn.benchmark = False"
   ]
  },
  {
   "cell_type": "code",
   "execution_count": 6,
   "id": "1a9f32a0",
   "metadata": {
    "deletable": false,
    "editable": false,
    "id": "1a9f32a0",
    "nbgrader": {
     "cell_type": "code",
     "checksum": "310824e7fb50a67093ebb7f92521f386",
     "grade": false,
     "grade_id": "cell-3ac688ddcdf1f718",
     "locked": true,
     "schema_version": 3,
     "solution": false,
     "task": false
    },
    "tags": []
   },
   "outputs": [],
   "source": [
    "device = torch.device('cuda' if torch.cuda.is_available() else 'cpu')"
   ]
  },
  {
   "cell_type": "markdown",
   "id": "219ed6c0-92b9-4ca5-8b9f-71995799314f",
   "metadata": {
    "deletable": false,
    "editable": false,
    "id": "219ed6c0-92b9-4ca5-8b9f-71995799314f",
    "nbgrader": {
     "cell_type": "markdown",
     "checksum": "851f4281950105edf2038c35a19db963",
     "grade": false,
     "grade_id": "cell-91357d14fc99d39d",
     "locked": true,
     "schema_version": 3,
     "solution": false,
     "task": false
    },
    "tags": []
   },
   "source": [
    "## Task 1: Data Preparation"
   ]
  },
  {
   "cell_type": "markdown",
   "id": "b9febf38-0a1a-4ff3-94a7-eb232c21eef1",
   "metadata": {
    "deletable": false,
    "editable": false,
    "id": "b9febf38-0a1a-4ff3-94a7-eb232c21eef1",
    "nbgrader": {
     "cell_type": "markdown",
     "checksum": "7f4723736e3e4512d6d08504b7a0dbd6",
     "grade": false,
     "grade_id": "cell-291860bd3393c1d3",
     "locked": true,
     "schema_version": 3,
     "solution": false,
     "task": false
    },
    "tags": []
   },
   "source": [
    "### Task 1.1: Tokenizaion"
   ]
  },
  {
   "cell_type": "code",
   "execution_count": 7,
   "id": "04ecf7ac-b2ce-4e9e-9560-8bc53c616282",
   "metadata": {
    "colab": {
     "base_uri": "https://localhost:8080/"
    },
    "editable": false,
    "id": "04ecf7ac-b2ce-4e9e-9560-8bc53c616282",
    "outputId": "5ba23595-4338-4b18-df22-99a7de3b3e4a",
    "tags": []
   },
   "outputs": [
    {
     "name": "stdout",
     "output_type": "stream",
     "text": [
      "There are 137860 English sentences in data\n",
      "There are 137860 French sentences in data\n",
      "Here are some examples:\n",
      "----------\n",
      "new jersey is sometimes quiet during autumn \n",
      "new jersey est parfois calme pendant l' automne \n",
      "----------\n",
      "they like strawberries \n",
      "ils aiment les fraises \n",
      "----------\n",
      "she plans to visit the united states next may .\n",
      "elle envisage de se rendre aux états-unis en mai prochain .\n",
      "____________________________________________________________________________________________________\n"
     ]
    }
   ],
   "source": [
    "# Load your data\n",
    "en_df = pd.read_csv(os.path.join(path , 'small_vocab_en.csv'), header=None, usecols=[0])\n",
    "fr_df = pd.read_csv(os.path.join(path, 'small_vocab_fr.csv'), header=None, usecols=[0])\n",
    "\n",
    "english_sentences = en_df[0].values\n",
    "french_sentences = fr_df[0].values\n",
    "\n",
    "print(f'There are {len(english_sentences)} English sentences in data')\n",
    "print(f'There are {len(french_sentences)} French sentences in data')\n",
    "print('Here are some examples:')\n",
    "e = [ 0, 1000, 3000]\n",
    "for i in e:\n",
    "    print(10*\"-\")\n",
    "    print(english_sentences[i])\n",
    "    print(french_sentences[i])\n",
    "print(100*\"_\")"
   ]
  },
  {
   "cell_type": "code",
   "execution_count": null,
   "id": "05a18098-1a7f-4758-84f4-4a7f6bfa40d3",
   "metadata": {
    "colab": {
     "base_uri": "https://localhost:8080/"
    },
    "deletable": false,
    "editable": true,
    "id": "05a18098-1a7f-4758-84f4-4a7f6bfa40d3",
    "nbgrader": {
     "cell_type": "code",
     "checksum": "e136e2d6e0d0fe41dcc0ed1b4265e4b3",
     "grade": false,
     "grade_id": "cell-d953178b4a066fcc",
     "locked": false,
     "schema_version": 3,
     "solution": true,
     "task": false
    },
    "outputId": "7df51196-c8eb-4ab5-ecbe-a7b85f0f0402",
    "tags": []
   },
   "outputs": [
    {
     "name": "stdout",
     "output_type": "stream",
     "text": [
      "----------\n",
      "['new', 'jersey', 'is', 'sometimes', 'quiet', 'during', 'autumn']\n",
      "['new', 'jersey', 'est', 'parfois', 'calme', 'pendant', \"l'\", 'automne']\n",
      "----------\n",
      "['they', 'like', 'strawberries']\n",
      "['ils', 'aiment', 'les', 'fraises']\n",
      "----------\n",
      "['she', 'plans', 'to', 'visit', 'the', 'united', 'states', 'next', 'may']\n",
      "['elle', 'envisage', 'de', 'se', 'rendre', 'aux', 'étatsunis', 'en', 'mai', 'prochain']\n"
     ]
    }
   ],
   "source": [
    "# Tokenize function\n",
    "def tokenize(sentences):\n",
    "    \"\"\"\n",
    "    Tokenizes a list of sentences by:\n",
    "    1. Converting all text to lowercase.\n",
    "    2. Removing special characters listed in \"filters\".\n",
    "    Hint: you can use \"str.maketrans\" to creates a translation table to remove unwanted characters defined in \"filters\".\n",
    "    3. Splitting each sentence into a list of words.\n",
    "    \"\"\"\n",
    "    filters = '.?!#$%&()*+,-/:;<=>@«»\"\"[\\\\]^_`{|}~\\t\\n'\n",
    "\n",
    "    tokenized_list = []\n",
    "    for sentence in sentences:\n",
    "        sentence = sentence.lower()\n",
    "        sentence = sentence.translate(str.maketrans('', '', filters))\n",
    "        tokenized_list.append(sentence.split())\n",
    "\n",
    "    return tokenized_list\n",
    "\n",
    "# Tokenize English and French sentences\n",
    "tokenized_en = tokenize(english_sentences)\n",
    "tokenized_fr = tokenize(french_sentences)\n",
    "for i in e:\n",
    "    print(10*\"-\")\n",
    "    print(tokenized_en[i])\n",
    "    print(tokenized_fr[i])"
   ]
  },
  {
   "cell_type": "markdown",
   "id": "bfc71a52-0148-4bce-af72-799047b0f653",
   "metadata": {
    "deletable": false,
    "editable": false,
    "id": "bfc71a52-0148-4bce-af72-799047b0f653",
    "nbgrader": {
     "cell_type": "markdown",
     "checksum": "0907496be0bbf0e8a9587a38d054ac63",
     "grade": false,
     "grade_id": "cell-5c42169eb0d9ba7c",
     "locked": true,
     "schema_version": 3,
     "solution": false,
     "task": false
    },
    "tags": []
   },
   "source": [
    "### Task 1.2: Building Vocabulary"
   ]
  },
  {
   "cell_type": "code",
   "execution_count": null,
   "id": "ee1d488c-b866-46da-91c9-857bc7540d7b",
   "metadata": {
    "colab": {
     "base_uri": "https://localhost:8080/"
    },
    "deletable": false,
    "editable": true,
    "id": "ee1d488c-b866-46da-91c9-857bc7540d7b",
    "nbgrader": {
     "cell_type": "code",
     "checksum": "54b4b871a691fb80fb59f818abe16af6",
     "grade": false,
     "grade_id": "cell-acd8f7a88e74d5a4",
     "locked": false,
     "schema_version": 3,
     "solution": true,
     "task": false
    },
    "outputId": "56766c4a-06fe-4394-ae5e-ecfdcf13d21a",
    "tags": []
   },
   "outputs": [
    {
     "name": "stdout",
     "output_type": "stream",
     "text": [
      "Here are some examples from our English dictionary: \n",
      "----------------------------------------------------------------------------------------------------\n",
      "word: <PAD>, index: 0\n",
      "word: <SOS>, index: 1\n",
      "word: <EOS>, index: 2\n",
      "word: new, index: 3\n",
      "word: jersey, index: 4\n",
      "word: is, index: 5\n",
      "word: sometimes, index: 6\n",
      "word: quiet, index: 7\n",
      "word: during, index: 8\n",
      "word: autumn, index: 9\n",
      "__________\n",
      "index: 0, word: <PAD>\n",
      "index: 1, word: <SOS>\n",
      "index: 2, word: <EOS>\n",
      "index: 3, word: new\n",
      "index: 4, word: jersey\n",
      "index: 5, word: is\n",
      "index: 6, word: sometimes\n",
      "index: 7, word: quiet\n",
      "index: 8, word: during\n",
      "index: 9, word: autumn\n"
     ]
    }
   ],
   "source": [
    "# Create vocabulary with special tokens\n",
    "def build_vocab(tokenized_sentences):\n",
    "    special_tokens = [\"<PAD>\", \"<SOS>\", \"<EOS>\"]\n",
    "    # build vocab by applying \"Counter\" for sentence in tokenized_sentences and for token in sentence\n",
    "    # add special tokens\n",
    "    # word2idx = ? (a dictionary for mapping word to index)\n",
    "    # idx2word = ? (a dictionary for index to word)\n",
    "    word2idx = {}\n",
    "    idx2word = {}\n",
    "\n",
    "    # add special tokens to the vocab\n",
    "    for i, token in enumerate(special_tokens):\n",
    "        word2idx[token] = i\n",
    "        idx2word[i] = token\n",
    "\n",
    "    # add the rest of the words to the vocab\n",
    "    idx = len(special_tokens)\n",
    "    for sentence in tokenized_sentences:\n",
    "        for token in sentence:\n",
    "            # check if token exists already\n",
    "            if token not in word2idx:\n",
    "                word2idx[token] = idx\n",
    "                idx2word[idx] = token\n",
    "                idx += 1\n",
    "\n",
    "    return word2idx, idx2word\n",
    "\n",
    "en_word2idx, en_idx2word = build_vocab(tokenized_en)\n",
    "fr_word2idx, fr_idx2word = build_vocab(tokenized_fr)\n",
    "\n",
    "print(\"Here are some examples from our English dictionary: \")\n",
    "print(100 * \"-\")\n",
    "\n",
    "# Display first 10 words and their indices from en_word2idx\n",
    "for i, (key, value) in enumerate(en_word2idx.items()):\n",
    "    print(f'word: {key}, index: {value}')\n",
    "    if i == 9:  # After 10 iterations, break\n",
    "        break\n",
    "\n",
    "print(10 * \"_\")\n",
    "\n",
    "# Display first 10 indices and their words from en_idx2word\n",
    "for i, (key, value) in enumerate(en_idx2word.items()):\n",
    "    print(f'index: {key}, word: {value}')\n",
    "    if i == 9:  # After 10 iterations, break\n",
    "        break"
   ]
  },
  {
   "cell_type": "markdown",
   "id": "4604ca38-063e-46cb-a40e-57192653a316",
   "metadata": {
    "deletable": false,
    "editable": false,
    "id": "4604ca38-063e-46cb-a40e-57192653a316",
    "nbgrader": {
     "cell_type": "markdown",
     "checksum": "dc164a3386abefc31af298f532ab98d0",
     "grade": false,
     "grade_id": "cell-2b2c9232a9907c80",
     "locked": true,
     "schema_version": 3,
     "solution": false,
     "task": false
    },
    "tags": []
   },
   "source": [
    "### Dataset Class"
   ]
  },
  {
   "cell_type": "code",
   "execution_count": 12,
   "id": "742ff0d6-758b-43c6-a870-aab4a73746dd",
   "metadata": {
    "colab": {
     "base_uri": "https://localhost:8080/"
    },
    "editable": true,
    "id": "742ff0d6-758b-43c6-a870-aab4a73746dd",
    "outputId": "0f10f8b3-e9bd-441b-ef65-0da60a1d5546",
    "tags": []
   },
   "outputs": [
    {
     "name": "stdout",
     "output_type": "stream",
     "text": [
      "Source batch: tensor([[  1,  39,  65,   5,   6, 104,  15,  64,   2,   0]], device='cuda:0')\n",
      "torch.Size([1, 10])\n",
      "__________\n",
      "Target batch: tensor([[ 1, 58,  5,  6, 87,  8, 57,  2,  0,  0]], device='cuda:0')\n",
      "torch.Size([1, 10])\n",
      "__________\n"
     ]
    }
   ],
   "source": [
    "# Dataset class with padding applied in __getitem__\n",
    "class TranslationDataset(Dataset):\n",
    "    def __init__(self, src_sentences, tgt_sentences, src_vocab, tgt_vocab, seq_len=30):\n",
    "        self.src_sentences = src_sentences\n",
    "        self.tgt_sentences = tgt_sentences\n",
    "        self.src_vocab = src_vocab\n",
    "        self.tgt_vocab = tgt_vocab\n",
    "        self.seq_len = seq_len\n",
    "\n",
    "    def __len__(self):\n",
    "        return len(self.src_sentences)\n",
    "\n",
    "    def pad_sequence(self, tokens, vocab, is_target=False):\n",
    "        \"\"\"\n",
    "        Pads a sequence of tokens to the fixed length `seq_len`.\n",
    "        Adds <SOS> at the start, <EOS> at the end, and pads with <PAD>.\n",
    "        Trims if the sequence is longer than `seq_len`.\n",
    "        \"\"\"\n",
    "        tokens = [vocab[\"<SOS>\"]] + [vocab.get(token, vocab[\"<PAD>\"]) for token in tokens]\n",
    "        tokens.append(vocab[\"<EOS>\"])\n",
    "        tokens = tokens[:self.seq_len]\n",
    "        tokens += [vocab[\"<PAD>\"]] * (self.seq_len - len(tokens))\n",
    "        return tokens\n",
    "\n",
    "    def __getitem__(self, idx):\n",
    "\n",
    "        src_tokens = self.src_sentences[idx]\n",
    "        tgt_tokens = self.tgt_sentences[idx]\n",
    "\n",
    "        # Apply padding to both the source and target sentences\n",
    "        src_padded = self.pad_sequence(src_tokens, self.src_vocab, is_target=False)\n",
    "        tgt_padded = self.pad_sequence(tgt_tokens, self.tgt_vocab, is_target=True)\n",
    "\n",
    "        # Convert to tensors and move to device (GPU or CPU)\n",
    "        src_item = torch.tensor(src_padded).to(device)\n",
    "        tgt_item = torch.tensor(tgt_padded).to(device)\n",
    "\n",
    "        return src_item, tgt_item\n",
    "\n",
    "# Instantiate and test the dataset, let the French be as source language and English as target language.\n",
    "dataset = TranslationDataset(tokenized_fr, tokenized_en, fr_word2idx, en_word2idx,  seq_len=10)\n",
    "dataloader = DataLoader(dataset, batch_size=1, shuffle=True)\n",
    "\n",
    "# Test the DataLoader\n",
    "for src_batch, tgt_batch in dataloader:\n",
    "    print(\"Source batch:\", src_batch)\n",
    "    print(src_batch.size())\n",
    "    print(10*\"_\")\n",
    "    print(\"Target batch:\", tgt_batch)\n",
    "    print(tgt_batch.size())\n",
    "    print(10*\"_\")\n",
    "    break"
   ]
  },
  {
   "cell_type": "markdown",
   "id": "c9cbf6fe-050c-4357-ae8f-112a4021b231",
   "metadata": {
    "deletable": false,
    "editable": false,
    "id": "c9cbf6fe-050c-4357-ae8f-112a4021b231",
    "nbgrader": {
     "cell_type": "markdown",
     "checksum": "a920ba916dac6fa8032a24c0603867eb",
     "grade": false,
     "grade_id": "cell-5ddb30e4fc5234fa",
     "locked": true,
     "schema_version": 3,
     "solution": false,
     "task": false
    },
    "tags": []
   },
   "source": [
    "### Task 1.3: Sentence Embedding\n"
   ]
  },
  {
   "cell_type": "code",
   "execution_count": null,
   "id": "9fe7f794-94bc-4332-a186-7c0d11fc218f",
   "metadata": {
    "colab": {
     "base_uri": "https://localhost:8080/"
    },
    "deletable": false,
    "editable": true,
    "id": "9fe7f794-94bc-4332-a186-7c0d11fc218f",
    "nbgrader": {
     "cell_type": "code",
     "checksum": "2e641ffdf106f543f00d6a776e3963eb",
     "grade": false,
     "grade_id": "cell-fab72a3e23c8b68e",
     "locked": false,
     "schema_version": 3,
     "solution": true,
     "task": false
    },
    "outputId": "07180942-b90c-47d5-bfcd-f3c76f9caeb5",
    "tags": []
   },
   "outputs": [
    {
     "name": "stdout",
     "output_type": "stream",
     "text": [
      "__________\n",
      "torch.Size([1, 10])\n",
      "torch.Size([1, 10, 128])\n",
      "__________\n",
      "torch.Size([1, 10])\n",
      "torch.Size([1, 10, 128])\n"
     ]
    }
   ],
   "source": [
    "embedding_size = 128\n",
    "vsize_src = len(fr_word2idx)\n",
    "vsize_tgt = len(en_word2idx)\n",
    "\n",
    "# data: let the French be as source language and English as target language.\n",
    "dataset = TranslationDataset(tokenized_fr, tokenized_en, fr_word2idx, en_word2idx,  seq_len=10)\n",
    "dataloader = DataLoader(dataset, batch_size=1, shuffle=True)\n",
    "\n",
    "# Use 'next' to get a batch from the DataLoader iterator\n",
    "src_batch, tgt_batch = next(iter(dataloader))\n",
    "\n",
    "\n",
    "embedding_fr = nn.Embedding(vsize_src, embedding_size) #(define an embedding layer for French words in your French Vocabulary)\n",
    "embedding_fr.to(device)\n",
    "output_embedding_fr = embedding_fr(src_batch) #(pass src_batch through embedding_fr)\n",
    "\n",
    "\n",
    "embedding_en = nn.Embedding(vsize_tgt, embedding_size) # (define an embedding layer for English words in your English Vocabulary)\n",
    "embedding_en.to(device)\n",
    "output_embedding_en = embedding_en(tgt_batch)\n",
    "\n",
    "print(10*\"_\")\n",
    "print(src_batch.size())\n",
    "print(output_embedding_fr.size())\n",
    "print(10*\"_\")\n",
    "print(tgt_batch.size())\n",
    "print(output_embedding_en.size())"
   ]
  },
  {
   "cell_type": "markdown",
   "id": "1ce8ae0f-ece1-4596-8037-89631b8d2075",
   "metadata": {
    "deletable": false,
    "editable": false,
    "id": "1ce8ae0f-ece1-4596-8037-89631b8d2075",
    "nbgrader": {
     "cell_type": "markdown",
     "checksum": "478bcf1a7168a93463c0482b18b80bbf",
     "grade": false,
     "grade_id": "cell-8372a80b53e83a10",
     "locked": true,
     "schema_version": 3,
     "solution": false,
     "task": false
    },
    "tags": []
   },
   "source": [
    "### Task 1.4: Positional encoding"
   ]
  },
  {
   "cell_type": "code",
   "execution_count": 15,
   "id": "dfbfdac1-3bd3-4a57-b034-4aeb97cf1b9d",
   "metadata": {
    "deletable": false,
    "editable": true,
    "id": "dfbfdac1-3bd3-4a57-b034-4aeb97cf1b9d",
    "nbgrader": {
     "cell_type": "code",
     "checksum": "66ff2d4d083b95d6edb7f6e17233b63e",
     "grade": false,
     "grade_id": "cell-de1d08bfdff6d81e",
     "locked": false,
     "schema_version": 3,
     "solution": true,
     "task": false
    },
    "tags": []
   },
   "outputs": [],
   "source": [
    "class PositionalEncoding(nn.Module):\n",
    "    def __init__(self, embed_size, max_len=512):\n",
    "        super(PositionalEncoding, self).__init__()\n",
    "        self.embed_size = embed_size\n",
    "\n",
    "        # Initialize a tensor to store positional encodings for each position up to max_len\n",
    "        pos_encoding = torch.zeros(max_len, embed_size)\n",
    "        # Create a tensor for positions, where each position corresponds to a word's position in the sequence\n",
    "        position = torch.arange(0, max_len, dtype=torch.float).unsqueeze(1)\n",
    "\n",
    "        # 1. Create a tensor `div_term` to scale the positional encoding values.\n",
    "\n",
    "        # Hint:\n",
    "        # This is based on the formula for positional encoding where each dimension has a different frequency.\n",
    "        # We generate a range of values from 0 to embed_size, stepping by 2 (for even indices), and multiply it by a scaling factor.\n",
    "        # The scaling factor (-math.log(10000.0) / embed_size) ensures the frequencies decay logarithmically.\n",
    "\n",
    "        # 2. Apply the sine function to the even indices of the positional encoding matrix.\n",
    "        # 3. Apply the cosine function to the odd indices of the positional encoding matrix.\n",
    "\n",
    "        # Hint:\n",
    "        # The `position` tensor holds the position values for each token, and `div_term` scales those values.\n",
    "\n",
    "        # YOUR CODE HERE\n",
    "        div_term = torch.exp(torch.arange(0, embed_size, 2).float() * (-math.log(10000.0) / embed_size))\n",
    "        pos_encoding[:, 0::2] = torch.sin(position * div_term)\n",
    "        pos_encoding[:, 1::2] = torch.cos(position * div_term)\n",
    "\n",
    "        # Register as buffer so it is not considered as a parameter during training\n",
    "        self.register_buffer('pos_encoding', pos_encoding.unsqueeze(0))\n",
    "\n",
    "    def forward(self, x):\n",
    "        # Add positional encoding to embeddings\n",
    "        x = x * math.sqrt(self.embed_size)\n",
    "        x = x + self.pos_encoding[:, :x.size(1), :].to(x.device)\n",
    "        return x"
   ]
  },
  {
   "cell_type": "code",
   "execution_count": 16,
   "id": "f3a3335e-1dff-4fe8-aebd-8367d2359da5",
   "metadata": {
    "colab": {
     "base_uri": "https://localhost:8080/"
    },
    "editable": false,
    "id": "f3a3335e-1dff-4fe8-aebd-8367d2359da5",
    "outputId": "3e46fd8a-2a65-4d5e-9ed6-7072b95eb1e7",
    "tags": []
   },
   "outputs": [
    {
     "name": "stdout",
     "output_type": "stream",
     "text": [
      "__________\n",
      "torch.Size([1, 10, 128])\n",
      "torch.Size([1, 10, 128])\n"
     ]
    }
   ],
   "source": [
    "#%% Applying positional encoding\n",
    "positional_encoding = PositionalEncoding(embedding_size, 512)\n",
    "output_pe_fr = positional_encoding (output_embedding_fr)\n",
    "output_pe_en = positional_encoding (output_embedding_en)\n",
    "print(10*\"_\")\n",
    "print(output_pe_fr.size())\n",
    "print(output_pe_en.size())"
   ]
  },
  {
   "cell_type": "markdown",
   "id": "6baf7c61-c078-45c3-977e-fbefe51e3beb",
   "metadata": {
    "deletable": false,
    "editable": false,
    "id": "6baf7c61-c078-45c3-977e-fbefe51e3beb",
    "nbgrader": {
     "cell_type": "markdown",
     "checksum": "29456a0467e8a115f33b88974dd4d293",
     "grade": false,
     "grade_id": "cell-093e16e5c4566696",
     "locked": true,
     "schema_version": 3,
     "solution": false,
     "task": false
    }
   },
   "source": [
    "## Task 2: Model Architecture"
   ]
  },
  {
   "cell_type": "code",
   "execution_count": null,
   "id": "a05c4ec1-3f32-4d12-b0e2-a2bd1643b0de",
   "metadata": {
    "deletable": false,
    "editable": true,
    "id": "a05c4ec1-3f32-4d12-b0e2-a2bd1643b0de",
    "nbgrader": {
     "cell_type": "code",
     "checksum": "31b428830c77336df8f215865a3b76a1",
     "grade": false,
     "grade_id": "cell-8acf47d49c2ce752",
     "locked": false,
     "schema_version": 3,
     "solution": true,
     "task": false
    },
    "tags": []
   },
   "outputs": [],
   "source": [
    "class MyTransformer(nn.Module):\n",
    "    def __init__(self, vocab_size_src, vocab_size_tgt, embed_size, num_heads, hidden_dim, num_encoder_layers, num_decoder_layers, max_len=512):\n",
    "        super(MyTransformer, self).__init__()\n",
    "        # Initialize layers similar to MySimpleTransformer\n",
    "        # Two Embedding layers for source and target text\n",
    "        # Positional encoding\n",
    "        # Transformer block\n",
    "        # Final linear layer to project transformer output to vocab size\n",
    "        self.embedding_src = nn.Embedding(vocab_size_src, embed_size).to(device)\n",
    "        self.embedding_tgt = nn.Embedding(vocab_size_tgt, embed_size).to(device)\n",
    "        self.positional_encoding = PositionalEncoding(embed_size, max_len)\n",
    "        self.transformer = nn.Transformer(d_model=embed_size,\n",
    "                                          nhead=num_heads,\n",
    "                                          num_encoder_layers=num_encoder_layers,\n",
    "                                          num_decoder_layers=num_decoder_layers,\n",
    "                                          dim_feedforward=hidden_dim)\n",
    "        self.linear = nn.Linear(embed_size, vocab_size_tgt)\n",
    "\n",
    "    def encode(self, src, src_padding_mask):\n",
    "        # Transpose inputs to (seq_len, batch_size, embedding_dim)\n",
    "        src = src.transpose(0, 1)\n",
    "\n",
    "        # 1. Get embeddings for source\n",
    "        # 2. apply positional encoding to embedded source\n",
    "        # 3. Forward pass to Transformer encoder block with src_key_padding_mask\n",
    "        src_embedding = self.embedding_src(src)\n",
    "        src_pe = self.positional_encoding(src_embedding)\n",
    "        encoded = self.transformer.encoder(src_pe,\n",
    "                               src_key_padding_mask=src_padding_mask)\n",
    "\n",
    "        return encoded\n",
    "\n",
    "    def decode(self, tgt, memory, tgt_mask, tgt_padding_mask):\n",
    "        # Transpose inputs to (seq_len, batch_size, embedding_dim)\n",
    "        tgt = tgt.transpose(0, 1)\n",
    "        if tgt_mask != None:\n",
    "            tgt_mask = tgt_mask.transpose(0,1)\n",
    "\n",
    "        # 1. Get embeddings for target\n",
    "        # 2. apply positional encoding to embedded target\n",
    "        # 3. Forward pass target and memory (output of encode) to Transformer decoder block with tgt_mask\n",
    "        tgt_embedding = self.embedding_tgt(tgt)\n",
    "        tgt_pe = self.positional_encoding(tgt_embedding)\n",
    "        decoded = self.transformer.decoder(tgt_pe,\n",
    "                               memory,\n",
    "                               tgt_mask=tgt_mask,\n",
    "                               tgt_key_padding_mask=tgt_padding_mask)\n",
    "\n",
    "        return decoded\n",
    "\n",
    "    def forward(self, src, tgt, src_padding_mask=None, tgt_padding_mask=None, tgt_mask=None):\n",
    "        # 1. pass source through encode block (name it as memory)\n",
    "        # 2. pass target and memory through decode block\n",
    "        # 3. Project to vocabulary size\n",
    "        memory = self.encode(src,\n",
    "                             src_padding_mask)\n",
    "        output_decoder = self.decode(tgt,\n",
    "                                     memory,\n",
    "                                     tgt_mask,\n",
    "                                     tgt_padding_mask)\n",
    "        output = self.linear(output_decoder)\n",
    "\n",
    "        output = output.transpose(0, 1)\n",
    "        return  output_decoder, output\n",
    "\n",
    "    def get_tgt_mask(self, tgt):\n",
    "        tgt_seq_len = tgt.size(1)\n",
    "        tgt_mask = nn.Transformer.generate_square_subsequent_mask(tgt_seq_len).to(tgt.device)\n",
    "        return tgt_mask\n",
    "\n",
    "    def create_pad_mask(self, matrix):\n",
    "        # If matrix = [1,2,3,0,0,0] where pad_token=0, the result mask is\n",
    "        # [False, False, False, True, True, True]\n",
    "        pad_token = 0\n",
    "        return (matrix == pad_token)"
   ]
  },
  {
   "cell_type": "markdown",
   "id": "f478708b-68d0-4690-8bed-3629ea2e4b2d",
   "metadata": {
    "deletable": false,
    "editable": false,
    "id": "f478708b-68d0-4690-8bed-3629ea2e4b2d",
    "nbgrader": {
     "cell_type": "markdown",
     "checksum": "bfdc594c1314d46e6f092e7117d03e55",
     "grade": false,
     "grade_id": "cell-2f77cd749e40453a",
     "locked": true,
     "schema_version": 3,
     "solution": false,
     "task": false
    },
    "tags": []
   },
   "source": [
    "## Task 3: Training and Evaluation"
   ]
  },
  {
   "cell_type": "code",
   "execution_count": 23,
   "id": "5b833b15-348a-447c-9c6e-185ec36736d7",
   "metadata": {
    "deletable": false,
    "editable": false,
    "id": "5b833b15-348a-447c-9c6e-185ec36736d7",
    "nbgrader": {
     "cell_type": "code",
     "checksum": "3e3d07d2cc6c623d73b169e5acc2771b",
     "grade": false,
     "grade_id": "cell-50417a72b48171e1",
     "locked": true,
     "schema_version": 3,
     "solution": false,
     "task": false
    },
    "tags": []
   },
   "outputs": [],
   "source": [
    "# Data\n",
    "\n",
    "bs = 256\n",
    "dataset = TranslationDataset(tokenized_fr, tokenized_en, fr_word2idx, en_word2idx,  seq_len=7)\n",
    "number_of_sentences = len(tokenized_fr)\n",
    "train_size = int((0.8)*number_of_sentences)\n",
    "test_size = int(number_of_sentences - train_size)\n",
    "train_dataset, test_dataset = random_split(dataset, [train_size, test_size])\n",
    "\n",
    "train_loader = DataLoader(train_dataset, batch_size=bs, shuffle=True, drop_last=True)\n",
    "val_loader = DataLoader(test_dataset, batch_size=bs, shuffle=False, drop_last=True)"
   ]
  },
  {
   "cell_type": "code",
   "execution_count": 24,
   "id": "efd32c9e-9868-4f8a-819d-6816332a9ea7",
   "metadata": {
    "deletable": false,
    "editable": false,
    "id": "efd32c9e-9868-4f8a-819d-6816332a9ea7",
    "nbgrader": {
     "cell_type": "code",
     "checksum": "ada45fd309f153dcb7c3f001c5acddc8",
     "grade": false,
     "grade_id": "cell-47986e3c9b4441ee",
     "locked": true,
     "schema_version": 3,
     "solution": false,
     "task": false
    },
    "tags": []
   },
   "outputs": [],
   "source": [
    "# Model\n",
    "\n",
    "embedding_size = 240 # embed_dim must be divisible by num_heads\n",
    "vsize_src = len(fr_word2idx) # 336\n",
    "vsize_tgt = len(en_word2idx) # 201\n",
    "hdim = 512\n",
    "model = MyTransformer(vsize_src, vsize_tgt, embedding_size, 6, hdim, 4, 4, max_len=256)\n",
    "model = model.to(device)"
   ]
  },
  {
   "cell_type": "code",
   "execution_count": null,
   "id": "17e63f9b-07b4-4d01-a62d-25b9deafaf5a",
   "metadata": {
    "colab": {
     "base_uri": "https://localhost:8080/",
     "height": 921
    },
    "deletable": false,
    "editable": true,
    "id": "17e63f9b-07b4-4d01-a62d-25b9deafaf5a",
    "nbgrader": {
     "cell_type": "code",
     "checksum": "65de115ec5ce2d0baed8313bf2220f2b",
     "grade": false,
     "grade_id": "cell-3e78e5aa606c25be",
     "locked": false,
     "schema_version": 3,
     "solution": true,
     "task": false
    },
    "outputId": "bc0fb3db-bca8-4d6d-fea4-43419fff6dc3",
    "tags": []
   },
   "outputs": [
    {
     "name": "stdout",
     "output_type": "stream",
     "text": [
      "Epoch 1/10, Train Loss: 1.0225\n",
      "Epoch 1/10, Validation Loss: 0.1464\n",
      "Epoch 2/10, Train Loss: 0.133\n",
      "Epoch 2/10, Validation Loss: 0.0899\n",
      "Epoch 3/10, Train Loss: 0.0927\n",
      "Epoch 3/10, Validation Loss: 0.0783\n",
      "Epoch 4/10, Train Loss: 0.0817\n",
      "Epoch 4/10, Validation Loss: 0.0743\n",
      "Epoch 5/10, Train Loss: 0.0769\n",
      "Epoch 5/10, Validation Loss: 0.0729\n",
      "Epoch 6/10, Train Loss: 0.0744\n",
      "Epoch 6/10, Validation Loss: 0.0731\n",
      "Epoch 7/10, Train Loss: 0.0731\n",
      "Epoch 7/10, Validation Loss: 0.0712\n",
      "Epoch 8/10, Train Loss: 0.0717\n",
      "Epoch 8/10, Validation Loss: 0.0699\n",
      "Epoch 9/10, Train Loss: 0.0711\n",
      "Epoch 9/10, Validation Loss: 0.0696\n",
      "Epoch 10/10, Train Loss: 0.0702\n",
      "Epoch 10/10, Validation Loss: 0.0703\n",
      "Training completed.\n"
     ]
    },
    {
     "data": {
      "image/png": "[encoded data removed]",
      "text/plain": [
       "<Figure size 1000x600 with 1 Axes>"
      ]
     },
     "metadata": {},
     "output_type": "display_data"
    }
   ],
   "source": [
    "# Training\n",
    "criterion = nn.CrossEntropyLoss()\n",
    "optimizer = torch.optim.Adam(model.parameters(), lr=0.0001, betas=(0.9, 0.98), eps=1e-9)\n",
    "num_epochs = 10\n",
    "\n",
    "if not skip_training:\n",
    "    epoch_train_losses = []\n",
    "    epoch_validation_losses = []\n",
    "    for epoch in range(num_epochs):\n",
    "        model = model.to(device)\n",
    "        model.train()  # Set model to training mode\n",
    "        total_loss = 0\n",
    "        num_samples = 0\n",
    "        for src_batch, tgt_batch in train_loader:\n",
    "            optimizer.zero_grad()\n",
    "            # set input source as src_batch\n",
    "            # set input target as start of target sentence untill -1 (i.e. discard the last token) (past) [name it as tgt_input]\n",
    "            # set expexted target as target sentence from 1 to the end (i.e. discard the first token) (future) [name it as tgt_expected]\n",
    "            # use input source and input target (tgt_input) as input to the model\n",
    "            # expexted target will be used in loss to compare it with the model output.\n",
    "            # Remember to use padding and target causal masks on the model call:\n",
    "            # get padding mask of source,\n",
    "            # get padding mask of input target, convert it to float (.float()),\n",
    "            # get tgt_mask of input target,\n",
    "            # pass inout source, input target, source padding mask, and tgt_mask to the model to get the predictions (output).\n",
    "            src_batch = src_batch.to(device)\n",
    "            tgt_batch = tgt_batch.to(device)\n",
    "\n",
    "            tgt_input = tgt_batch[:, :-1]\n",
    "            tgt_expected = tgt_batch[:, 1:]\n",
    "\n",
    "            src_padding_mask = model.create_pad_mask(src_batch)\n",
    "            tgt_padding_mask = model.create_pad_mask(tgt_input).float()\n",
    "            \n",
    "            tgt_mask = model.get_tgt_mask(tgt_input)\n",
    "            output_decoder, output = model(src_batch, tgt_input, src_padding_mask=src_padding_mask, tgt_padding_mask=tgt_padding_mask, tgt_mask = tgt_mask)\n",
    "\n",
    "            output = output.to(device)\n",
    "            output = output.contiguous().view(-1, vsize_tgt)\n",
    "            tgt_expected = tgt_expected.contiguous().view(-1)\n",
    "\n",
    "            loss = criterion(output, tgt_expected)\n",
    "            loss.backward()\n",
    "            optimizer.step()\n",
    "\n",
    "            total_loss += loss.item()\n",
    "            num_samples += src_batch.shape[0]\n",
    "\n",
    "        epoch_train_loss = total_loss / len(train_loader)\n",
    "        epoch_train_loss = round(epoch_train_loss, 4)\n",
    "        epoch_train_losses.append(epoch_train_loss)\n",
    "        print(f\"Epoch {epoch + 1}/{num_epochs}, Train Loss: {epoch_train_loss}\")\n",
    "\n",
    "        ################################################################\n",
    "\n",
    "        model.eval()\n",
    "        validation_loss = 0\n",
    "        num_samples = 0\n",
    "        with torch.no_grad():\n",
    "            for src_batch, tgt_batch in val_loader:\n",
    "                # set input source as src_batch\n",
    "                # set input target as start of target sentence untill -1 (i.e. discard the last token) (past) [name it as tgt_input]\n",
    "                # set expexted target as target sentence from 1 to the end (i.e. discard the first token) (future) [name it as tgt_expected]\n",
    "                # use input source and input target (tgt_input) as input to the model\n",
    "                # expexted target will be used in loss to compare it with the model output.\n",
    "                # Remember to use padding and target causal masks on the model call:\n",
    "                # get padding mask of source,\n",
    "                # get padding mask of input target, convert it to float (.float()),\n",
    "                # get tgt_mask of input target,\n",
    "                # pass inout source, input target, source padding mask, and tgt_mask to the model to get the predictions (output).\n",
    "                src_batch = src_batch.to(device)\n",
    "                tgt_batch = tgt_batch.to(device)\n",
    "\n",
    "                tgt_input = tgt_batch[:, :-1]\n",
    "                tgt_expected = tgt_batch[:, 1:]\n",
    "\n",
    "                src_padding_mask = model.create_pad_mask(src_batch)\n",
    "                tgt_padding_mask = model.create_pad_mask(tgt_input).float()\n",
    "\n",
    "                tgt_mask = model.get_tgt_mask(tgt_input)\n",
    "                output_decoder, output = model(src_batch, tgt_input, src_padding_mask=src_padding_mask, tgt_padding_mask=tgt_padding_mask, tgt_mask = tgt_mask)\n",
    "\n",
    "                output = output.to(device)\n",
    "                output = output.contiguous().view(-1, vsize_tgt)\n",
    "\n",
    "                tgt_expected = tgt_expected.contiguous().view(-1)\n",
    "                loss = criterion(output, tgt_expected)\n",
    "                validation_loss += loss.item()\n",
    "                num_samples += src_batch.shape[0]\n",
    "\n",
    "            epoch_validation_loss = validation_loss / len(val_loader)\n",
    "            epoch_validation_loss = round(epoch_validation_loss, 4)\n",
    "            epoch_validation_losses.append(epoch_validation_loss)\n",
    "\n",
    "        print(f\"Epoch {epoch + 1}/{num_epochs}, Validation Loss: {epoch_validation_loss}\")\n",
    "        torch.save(model.state_dict(), 'model.pth')\n",
    "\n",
    "    print(\"Training completed.\")\n",
    "    torch.save(model.state_dict(), 'model.pth')\n",
    "\n",
    "    plt.figure(figsize=(10, 6))\n",
    "    epochs = range(1, num_epochs + 1)\n",
    "    plt.plot(epochs, epoch_train_losses, label='Train Loss', color='blue', marker='o')\n",
    "    plt.plot(epochs, epoch_validation_losses, label='Validation Loss', color='red', marker='x')\n",
    "    plt.title('Train vs Validation Loss')\n",
    "    plt.xlabel('Epoch')\n",
    "    plt.ylabel('Loss')\n",
    "    plt.legend()\n",
    "    plt.grid(True)\n",
    "    plt.show()"
   ]
  },
  {
   "cell_type": "markdown",
   "id": "e4d97d50-f344-4bd0-9933-31e0967db8ff",
   "metadata": {
    "deletable": false,
    "editable": false,
    "id": "e4d97d50-f344-4bd0-9933-31e0967db8ff",
    "nbgrader": {
     "cell_type": "markdown",
     "checksum": "3cd6f4b79c9eb03096892f79e8f40433",
     "grade": false,
     "grade_id": "cell-c54877793b096ca1",
     "locked": true,
     "schema_version": 3,
     "solution": false,
     "task": false
    },
    "tags": []
   },
   "source": [
    "## Task 4: Autoregressive Translation"
   ]
  },
  {
   "cell_type": "code",
   "execution_count": null,
   "id": "7b511cb3-8a3d-4d83-b403-ffb9f4b65f5e",
   "metadata": {
    "colab": {
     "base_uri": "https://localhost:8080/"
    },
    "deletable": false,
    "editable": true,
    "id": "7b511cb3-8a3d-4d83-b403-ffb9f4b65f5e",
    "nbgrader": {
     "cell_type": "code",
     "checksum": "a7d107bba2e8b29eabdd5bde898afb0b",
     "grade": false,
     "grade_id": "cell-4dae7ac8dd1330c2",
     "locked": false,
     "schema_version": 3,
     "solution": true,
     "task": false
    },
    "outputId": "3e6d6a97-bb24-4ed4-9f81-2bde661e2a0a",
    "tags": []
   },
   "outputs": [
    {
     "name": "stdout",
     "output_type": "stream",
     "text": [
      "original_sentence: new jersey est parfois calme pendant l' automne.\n",
      "translated_sentence: quiet during autumn <EOS>\n",
      "----------\n",
      "original_sentence: california est généralement calme en mars.\n",
      "translated_sentence: quiet during march <EOS>\n",
      "----------\n"
     ]
    }
   ],
   "source": [
    "seq_len=10\n",
    "start_token=1\n",
    "end_token=2\n",
    "model.eval()\n",
    "\n",
    "# Convert src_sentence to tokenized integers in the vocabulary dictionary\n",
    "example_source_sentences = [\"new jersey est parfois calme pendant l' automne.\", \"california est généralement calme en mars.\"]\n",
    "example_tokenized = tokenize(example_source_sentences)\n",
    "src_sentences = []\n",
    "for ex in example_tokenized:\n",
    "    ex_inds = []\n",
    "    for t in ex:\n",
    "        t_ind = fr_word2idx [t]\n",
    "        ex_inds.append(t_ind)\n",
    "    src_sentences.append(ex_inds)\n",
    "\n",
    "translated_sequences = []\n",
    "for counter, src_sentence in enumerate(src_sentences):\n",
    "    # Convert source tokens to Tensor\n",
    "    src_tensor = torch.tensor(src_sentence, dtype=torch.long).unsqueeze(0).to(device)  # Shape: (1, src_seq_length)\n",
    "\n",
    "    # 1. create src_padding_mask\n",
    "    # 2. get \"memory\" by passing source with create src_padding_mask through encode block (model.encode)\n",
    "    src_padding_mask = model.create_pad_mask(src_tensor)\n",
    "    memory = model.encode(src_tensor, src_padding_mask)\n",
    "\n",
    "    # initialize the predicted tgt_tokens (translation) with start token\n",
    "    tgt_tokens = torch.ones(1, 1).fill_(start_token).type(torch.long).to(device) #(1,1)\n",
    "\n",
    "    for i in range(seq_len-1):\n",
    "        # 1. Mask out the unpredicted tokens in the target (i.e., get tgt_mask)\n",
    "        # 2. get output by passing target (the generated part up to current `i`) and memory to decode block (model.decode)\n",
    "        # 3. remember to pass also tgt_mask\n",
    "        # 4. get a probability vector by passing output through linear layer (projection to vocabulary size)\n",
    "        # 5. use \"torch.max\" to get the index of the predicted word\n",
    "        # 6. Convert it to a tensor on device (name it as \"next_tgt_item\")\n",
    "        # 7. add \"next_tgt_item\" to tgt_tokens (use torch.cat)\n",
    "        # 8. Stop (break) if \"end_token\" is generated\n",
    "        tgt_mask = model.get_tgt_mask(tgt_tokens)\n",
    "        output_decoder = model.decode(tgt_tokens, memory, tgt_mask, None)\n",
    "        output = model.linear(output_decoder)\n",
    "        output = output.transpose(0, 1)\n",
    "        prob = torch.max(output, dim=2)[1]\n",
    "        next_tgt_item = prob[:, -1].unsqueeze(1)\n",
    "        tgt_tokens = torch.cat((tgt_tokens, next_tgt_item), dim=1)\n",
    "        if next_tgt_item.item() == end_token:\n",
    "            break\n",
    "\n",
    "    translated_tokens = tgt_tokens.squeeze().tolist()\n",
    "    translated_sentence = ' '.join ([en_idx2word[i] for i in translated_tokens[1:]])\n",
    "    translated_sequences.append(translated_tokens)\n",
    "    print(\"original_sentence:\", example_source_sentences[counter])\n",
    "    print(\"translated_sentence:\", translated_sentence)\n",
    "    print(10*'-')\n",
    "\n",
    "np.save('translation.npy', np.array(translated_sequences, dtype=object))"
   ]
  }
 ],
 "metadata": {
  "accelerator": "GPU",
  "colab": {
   "gpuType": "T4",
   "provenance": []
  },
  "kernelspec": {
   "display_name": "dataml200",
   "language": "python",
   "name": "python3"
  },
  "language_info": {
   "codemirror_mode": {
    "name": "ipython",
    "version": 3
   },
   "file_extension": ".py",
   "mimetype": "text/x-python",
   "name": "python",
   "nbconvert_exporter": "python",
   "pygments_lexer": "ipython3",
   "version": "3.10.15"
  },
  "toc": {
   "base_numbering": 0
  }
 },
 "nbformat": 4,
 "nbformat_minor": 5
}
